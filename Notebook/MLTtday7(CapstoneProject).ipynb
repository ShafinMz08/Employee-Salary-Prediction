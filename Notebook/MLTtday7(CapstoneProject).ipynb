{
 "cells": [
  {
   "cell_type": "markdown",
   "id": "765956c7-d8e2-431b-8c1d-7e2b40dbc24f",
   "metadata": {},
   "source": [
    "***CAPSTONE PROJECT***\n"
   ]
  },
  {
   "cell_type": "markdown",
   "id": "8a7964ca-95f0-4571-be22-b87c0590629e",
   "metadata": {},
   "source": [
    "**EMPLOYEE SALARY PREDICTION**\n",
    "- Using Linear Regression\n",
    "   - Support Vector Regression\n",
    "   - Random Forest Regression\n",
    "- Deployment-> Statemnt"
   ]
  },
  {
   "cell_type": "code",
   "execution_count": null,
   "id": "6923ce07-64f4-4fa1-9597-6ca656f31215",
   "metadata": {},
   "outputs": [
    {
     "name": "stdout",
     "output_type": "stream",
     "text": [
      "     Employee_ID  Age  Gender   Department      Job_Title  Years_at_Company  \\\n",
      "0              0   27    Male    Marketing        Manager                 9   \n",
      "1              1   53  Female        Sales       Engineer                10   \n",
      "2              2   59  Female    Marketing        Analyst                 8   \n",
      "3              3   42  Female  Engineering        Manager                 1   \n",
      "4              4   44  Female        Sales       Engineer                10   \n",
      "..           ...  ...     ...          ...            ...               ...   \n",
      "995          995   39  Female           HR  HR Specialist                 3   \n",
      "996          996   50    Male  Engineering        Manager                 1   \n",
      "997          997   52    Male  Engineering        Analyst                 3   \n",
      "998          998   37  Female           HR  HR Specialist                 2   \n",
      "999          999   59    Male        Sales  HR Specialist                 1   \n",
      "\n",
      "     Satisfaction_Level  Average_Monthly_Hours  Promotion_Last_5Years  Salary  \\\n",
      "0              0.586251                    151                      0   60132   \n",
      "1              0.261161                    221                      1   79947   \n",
      "2              0.304382                    184                      0   46958   \n",
      "3              0.480779                    242                      0   40662   \n",
      "4              0.636244                    229                      1   74307   \n",
      "..                  ...                    ...                    ...     ...   \n",
      "995            0.377435                    239                      0   71403   \n",
      "996            0.431152                    154                      0   30181   \n",
      "997            0.647102                    206                      0   64143   \n",
      "998            0.304813                    241                      0   74383   \n",
      "999            0.940510                    159                      0   73220   \n",
      "\n",
      "     Attrition  \n",
      "0            0  \n",
      "1            0  \n",
      "2            1  \n",
      "3            0  \n",
      "4            0  \n",
      "..         ...  \n",
      "995          0  \n",
      "996          1  \n",
      "997          0  \n",
      "998          1  \n",
      "999          1  \n",
      "\n",
      "[1000 rows x 11 columns]\n"
     ]
    }
   ],
   "source": [
    "#Load dataset\n",
    "import pandas as pd\n",
    "\n",
    "df=pd.read_csv(r\"C:\\Users\\MOHAMMED SHAHUL\\Downloads\\employee_attrition_data.csv\")\n",
    "print(df)"
   ]
  },
  {
   "cell_type": "code",
   "execution_count": null,
   "id": "415062e8-a7f7-4c5e-a02b-f772a779587d",
   "metadata": {},
   "outputs": [
    {
     "name": "stdout",
     "output_type": "stream",
     "text": [
      "   Employee_ID  Age  Gender   Department      Job_Title  Years_at_Company  \\\n",
      "0            0   27    Male    Marketing        Manager                 9   \n",
      "1            1   53  Female        Sales       Engineer                10   \n",
      "2            2   59  Female    Marketing        Analyst                 8   \n",
      "3            3   42  Female  Engineering        Manager                 1   \n",
      "4            4   44  Female        Sales       Engineer                10   \n",
      "5            5   47    Male        Sales  HR Specialist                10   \n",
      "6            6   58    Male    Marketing  HR Specialist                 5   \n",
      "7            7   57  Female        Sales        Analyst                 8   \n",
      "8            8   34  Female      Finance     Accountant                 6   \n",
      "9            9   57  Female    Marketing       Engineer                 7   \n",
      "\n",
      "   Satisfaction_Level  Average_Monthly_Hours  Promotion_Last_5Years  Salary  \\\n",
      "0            0.586251                    151                      0   60132   \n",
      "1            0.261161                    221                      1   79947   \n",
      "2            0.304382                    184                      0   46958   \n",
      "3            0.480779                    242                      0   40662   \n",
      "4            0.636244                    229                      1   74307   \n",
      "5            0.889018                    237                      0   97212   \n",
      "6            0.688977                    155                      1   97865   \n",
      "7            0.981679                    171                      0   50113   \n",
      "8            0.010381                    177                      1   88747   \n",
      "9            0.466782                    170                      0   43283   \n",
      "\n",
      "   Attrition  \n",
      "0          0  \n",
      "1          0  \n",
      "2          1  \n",
      "3          0  \n",
      "4          0  \n",
      "5          0  \n",
      "6          0  \n",
      "7          0  \n",
      "8          1  \n",
      "9          0  \n"
     ]
    }
   ],
   "source": [
    "print(df.head(10))"
   ]
  },
  {
   "cell_type": "code",
   "execution_count": null,
   "id": "b2b0f4f7-1b10-4e9e-ac17-8b8fdfe0cf8b",
   "metadata": {},
   "outputs": [
    {
     "name": "stdout",
     "output_type": "stream",
     "text": [
      "     Employee_ID  Age  Gender   Department      Job_Title  Years_at_Company  \\\n",
      "990          990   36  Female  Engineering     Accountant                 9   \n",
      "991          991   47    Male    Marketing        Manager                 2   \n",
      "992          992   46  Female           HR        Analyst                 8   \n",
      "993          993   47  Female           HR        Analyst                 5   \n",
      "994          994   47    Male    Marketing  HR Specialist                 2   \n",
      "995          995   39  Female           HR  HR Specialist                 3   \n",
      "996          996   50    Male  Engineering        Manager                 1   \n",
      "997          997   52    Male  Engineering        Analyst                 3   \n",
      "998          998   37  Female           HR  HR Specialist                 2   \n",
      "999          999   59    Male        Sales  HR Specialist                 1   \n",
      "\n",
      "     Satisfaction_Level  Average_Monthly_Hours  Promotion_Last_5Years  Salary  \\\n",
      "990            0.558512                    182                      1   65638   \n",
      "991            0.889621                    243                      0   78726   \n",
      "992            0.955095                    176                      1   79044   \n",
      "993            0.932450                    193                      0   47301   \n",
      "994            0.992018                    186                      1   31507   \n",
      "995            0.377435                    239                      0   71403   \n",
      "996            0.431152                    154                      0   30181   \n",
      "997            0.647102                    206                      0   64143   \n",
      "998            0.304813                    241                      0   74383   \n",
      "999            0.940510                    159                      0   73220   \n",
      "\n",
      "     Attrition  \n",
      "990          1  \n",
      "991          1  \n",
      "992          1  \n",
      "993          0  \n",
      "994          0  \n",
      "995          0  \n",
      "996          1  \n",
      "997          0  \n",
      "998          1  \n",
      "999          1  \n"
     ]
    }
   ],
   "source": [
    "print(df.tail(10))"
   ]
  },
  {
   "cell_type": "code",
   "execution_count": null,
   "id": "6d8d4c6a-67f7-47eb-a58e-302a28ad2cf1",
   "metadata": {},
   "outputs": [
    {
     "name": "stdout",
     "output_type": "stream",
     "text": [
      "Index(['Employee_ID', 'Age', 'Gender', 'Department', 'Job_Title',\n",
      "       'Years_at_Company', 'Satisfaction_Level', 'Average_Monthly_Hours',\n",
      "       'Promotion_Last_5Years', 'Salary', 'Attrition'],\n",
      "      dtype='object')\n"
     ]
    }
   ],
   "source": [
    "#display column names\n",
    "print(df.columns)"
   ]
  },
  {
   "cell_type": "code",
   "execution_count": null,
   "id": "24162596-4762-4c49-9a4d-98bd514930e5",
   "metadata": {},
   "outputs": [
    {
     "data": {
      "text/html": [
       "<div>\n",
       "<style scoped>\n",
       "    .dataframe tbody tr th:only-of-type {\n",
       "        vertical-align: middle;\n",
       "    }\n",
       "\n",
       "    .dataframe tbody tr th {\n",
       "        vertical-align: top;\n",
       "    }\n",
       "\n",
       "    .dataframe thead th {\n",
       "        text-align: right;\n",
       "    }\n",
       "</style>\n",
       "<table border=\"1\" class=\"dataframe\">\n",
       "  <thead>\n",
       "    <tr style=\"text-align: right;\">\n",
       "      <th></th>\n",
       "      <th>Employee_ID</th>\n",
       "      <th>Age</th>\n",
       "      <th>Gender</th>\n",
       "      <th>Department</th>\n",
       "      <th>Job_Title</th>\n",
       "      <th>Years_at_Company</th>\n",
       "      <th>Satisfaction_Level</th>\n",
       "      <th>Average_Monthly_Hours</th>\n",
       "      <th>Promotion_Last_5Years</th>\n",
       "      <th>Salary</th>\n",
       "      <th>Attrition</th>\n",
       "    </tr>\n",
       "  </thead>\n",
       "  <tbody>\n",
       "    <tr>\n",
       "      <th>0</th>\n",
       "      <td>False</td>\n",
       "      <td>False</td>\n",
       "      <td>False</td>\n",
       "      <td>False</td>\n",
       "      <td>False</td>\n",
       "      <td>False</td>\n",
       "      <td>False</td>\n",
       "      <td>False</td>\n",
       "      <td>False</td>\n",
       "      <td>False</td>\n",
       "      <td>False</td>\n",
       "    </tr>\n",
       "    <tr>\n",
       "      <th>1</th>\n",
       "      <td>False</td>\n",
       "      <td>False</td>\n",
       "      <td>False</td>\n",
       "      <td>False</td>\n",
       "      <td>False</td>\n",
       "      <td>False</td>\n",
       "      <td>False</td>\n",
       "      <td>False</td>\n",
       "      <td>False</td>\n",
       "      <td>False</td>\n",
       "      <td>False</td>\n",
       "    </tr>\n",
       "    <tr>\n",
       "      <th>2</th>\n",
       "      <td>False</td>\n",
       "      <td>False</td>\n",
       "      <td>False</td>\n",
       "      <td>False</td>\n",
       "      <td>False</td>\n",
       "      <td>False</td>\n",
       "      <td>False</td>\n",
       "      <td>False</td>\n",
       "      <td>False</td>\n",
       "      <td>False</td>\n",
       "      <td>False</td>\n",
       "    </tr>\n",
       "    <tr>\n",
       "      <th>3</th>\n",
       "      <td>False</td>\n",
       "      <td>False</td>\n",
       "      <td>False</td>\n",
       "      <td>False</td>\n",
       "      <td>False</td>\n",
       "      <td>False</td>\n",
       "      <td>False</td>\n",
       "      <td>False</td>\n",
       "      <td>False</td>\n",
       "      <td>False</td>\n",
       "      <td>False</td>\n",
       "    </tr>\n",
       "    <tr>\n",
       "      <th>4</th>\n",
       "      <td>False</td>\n",
       "      <td>False</td>\n",
       "      <td>False</td>\n",
       "      <td>False</td>\n",
       "      <td>False</td>\n",
       "      <td>False</td>\n",
       "      <td>False</td>\n",
       "      <td>False</td>\n",
       "      <td>False</td>\n",
       "      <td>False</td>\n",
       "      <td>False</td>\n",
       "    </tr>\n",
       "    <tr>\n",
       "      <th>...</th>\n",
       "      <td>...</td>\n",
       "      <td>...</td>\n",
       "      <td>...</td>\n",
       "      <td>...</td>\n",
       "      <td>...</td>\n",
       "      <td>...</td>\n",
       "      <td>...</td>\n",
       "      <td>...</td>\n",
       "      <td>...</td>\n",
       "      <td>...</td>\n",
       "      <td>...</td>\n",
       "    </tr>\n",
       "    <tr>\n",
       "      <th>995</th>\n",
       "      <td>False</td>\n",
       "      <td>False</td>\n",
       "      <td>False</td>\n",
       "      <td>False</td>\n",
       "      <td>False</td>\n",
       "      <td>False</td>\n",
       "      <td>False</td>\n",
       "      <td>False</td>\n",
       "      <td>False</td>\n",
       "      <td>False</td>\n",
       "      <td>False</td>\n",
       "    </tr>\n",
       "    <tr>\n",
       "      <th>996</th>\n",
       "      <td>False</td>\n",
       "      <td>False</td>\n",
       "      <td>False</td>\n",
       "      <td>False</td>\n",
       "      <td>False</td>\n",
       "      <td>False</td>\n",
       "      <td>False</td>\n",
       "      <td>False</td>\n",
       "      <td>False</td>\n",
       "      <td>False</td>\n",
       "      <td>False</td>\n",
       "    </tr>\n",
       "    <tr>\n",
       "      <th>997</th>\n",
       "      <td>False</td>\n",
       "      <td>False</td>\n",
       "      <td>False</td>\n",
       "      <td>False</td>\n",
       "      <td>False</td>\n",
       "      <td>False</td>\n",
       "      <td>False</td>\n",
       "      <td>False</td>\n",
       "      <td>False</td>\n",
       "      <td>False</td>\n",
       "      <td>False</td>\n",
       "    </tr>\n",
       "    <tr>\n",
       "      <th>998</th>\n",
       "      <td>False</td>\n",
       "      <td>False</td>\n",
       "      <td>False</td>\n",
       "      <td>False</td>\n",
       "      <td>False</td>\n",
       "      <td>False</td>\n",
       "      <td>False</td>\n",
       "      <td>False</td>\n",
       "      <td>False</td>\n",
       "      <td>False</td>\n",
       "      <td>False</td>\n",
       "    </tr>\n",
       "    <tr>\n",
       "      <th>999</th>\n",
       "      <td>False</td>\n",
       "      <td>False</td>\n",
       "      <td>False</td>\n",
       "      <td>False</td>\n",
       "      <td>False</td>\n",
       "      <td>False</td>\n",
       "      <td>False</td>\n",
       "      <td>False</td>\n",
       "      <td>False</td>\n",
       "      <td>False</td>\n",
       "      <td>False</td>\n",
       "    </tr>\n",
       "  </tbody>\n",
       "</table>\n",
       "<p>1000 rows × 11 columns</p>\n",
       "</div>"
      ],
      "text/plain": [
       "     Employee_ID    Age  Gender  Department  Job_Title  Years_at_Company  \\\n",
       "0          False  False   False       False      False             False   \n",
       "1          False  False   False       False      False             False   \n",
       "2          False  False   False       False      False             False   \n",
       "3          False  False   False       False      False             False   \n",
       "4          False  False   False       False      False             False   \n",
       "..           ...    ...     ...         ...        ...               ...   \n",
       "995        False  False   False       False      False             False   \n",
       "996        False  False   False       False      False             False   \n",
       "997        False  False   False       False      False             False   \n",
       "998        False  False   False       False      False             False   \n",
       "999        False  False   False       False      False             False   \n",
       "\n",
       "     Satisfaction_Level  Average_Monthly_Hours  Promotion_Last_5Years  Salary  \\\n",
       "0                 False                  False                  False   False   \n",
       "1                 False                  False                  False   False   \n",
       "2                 False                  False                  False   False   \n",
       "3                 False                  False                  False   False   \n",
       "4                 False                  False                  False   False   \n",
       "..                  ...                    ...                    ...     ...   \n",
       "995               False                  False                  False   False   \n",
       "996               False                  False                  False   False   \n",
       "997               False                  False                  False   False   \n",
       "998               False                  False                  False   False   \n",
       "999               False                  False                  False   False   \n",
       "\n",
       "     Attrition  \n",
       "0        False  \n",
       "1        False  \n",
       "2        False  \n",
       "3        False  \n",
       "4        False  \n",
       "..         ...  \n",
       "995      False  \n",
       "996      False  \n",
       "997      False  \n",
       "998      False  \n",
       "999      False  \n",
       "\n",
       "[1000 rows x 11 columns]"
      ]
     },
     "execution_count": 5,
     "metadata": {},
     "output_type": "execute_result"
    }
   ],
   "source": [
    "#Check for null values\n",
    "df.isna()"
   ]
  },
  {
   "cell_type": "code",
   "execution_count": null,
   "id": "6a1bec6a-41bf-41b5-a4a8-d310d75b47d4",
   "metadata": {},
   "outputs": [
    {
     "data": {
      "text/plain": [
       "Employee_ID              0\n",
       "Age                      0\n",
       "Gender                   0\n",
       "Department               0\n",
       "Job_Title                0\n",
       "Years_at_Company         0\n",
       "Satisfaction_Level       0\n",
       "Average_Monthly_Hours    0\n",
       "Promotion_Last_5Years    0\n",
       "Salary                   0\n",
       "Attrition                0\n",
       "dtype: int64"
      ]
     },
     "execution_count": 6,
     "metadata": {},
     "output_type": "execute_result"
    }
   ],
   "source": [
    "#Display sum of null values\n",
    "df.isna().sum()"
   ]
  },
  {
   "cell_type": "code",
   "execution_count": null,
   "id": "2004fad6-433b-4b89-a930-6b11ef5ae795",
   "metadata": {},
   "outputs": [
    {
     "data": {
      "text/plain": [
       "0"
      ]
     },
     "execution_count": 7,
     "metadata": {},
     "output_type": "execute_result"
    }
   ],
   "source": [
    "#Check for duplicated values\n",
    "df.duplicated().sum()"
   ]
  },
  {
   "cell_type": "code",
   "execution_count": null,
   "id": "2598aa48-a427-418f-b3ef-f35972f01edc",
   "metadata": {},
   "outputs": [
    {
     "name": "stdout",
     "output_type": "stream",
     "text": [
      "   Employee_ID  Age  Gender   Department Job_Title  Years_at_Company  \\\n",
      "0            0   27    Male    Marketing   Manager                 9   \n",
      "1            1   53  Female        Sales  Engineer                10   \n",
      "2            2   59  Female    Marketing   Analyst                 8   \n",
      "3            3   42  Female  Engineering   Manager                 1   \n",
      "4            4   44  Female        Sales  Engineer                10   \n",
      "\n",
      "   Satisfaction_Level  Average_Monthly_Hours  Promotion_Last_5Years  Salary  \\\n",
      "0            0.586251                    151                      0   60132   \n",
      "1            0.261161                    221                      1   79947   \n",
      "2            0.304382                    184                      0   46958   \n",
      "3            0.480779                    242                      0   40662   \n",
      "4            0.636244                    229                      1   74307   \n",
      "\n",
      "   Attrition  \n",
      "0          0  \n",
      "1          0  \n",
      "2          1  \n",
      "3          0  \n",
      "4          0  \n"
     ]
    }
   ],
   "source": [
    "print(df.head())"
   ]
  },
  {
   "cell_type": "code",
   "execution_count": null,
   "id": "57b8a2e6-4066-4dd3-aa89-9feb99dd09cc",
   "metadata": {},
   "outputs": [
    {
     "data": {
      "text/html": [
       "<div>\n",
       "<style scoped>\n",
       "    .dataframe tbody tr th:only-of-type {\n",
       "        vertical-align: middle;\n",
       "    }\n",
       "\n",
       "    .dataframe tbody tr th {\n",
       "        vertical-align: top;\n",
       "    }\n",
       "\n",
       "    .dataframe thead th {\n",
       "        text-align: right;\n",
       "    }\n",
       "</style>\n",
       "<table border=\"1\" class=\"dataframe\">\n",
       "  <thead>\n",
       "    <tr style=\"text-align: right;\">\n",
       "      <th></th>\n",
       "      <th>Age</th>\n",
       "      <th>Gender</th>\n",
       "      <th>Department</th>\n",
       "      <th>Job_Title</th>\n",
       "      <th>Years_at_Company</th>\n",
       "      <th>Satisfaction_Level</th>\n",
       "      <th>Average_Monthly_Hours</th>\n",
       "      <th>Promotion_Last_5Years</th>\n",
       "      <th>Salary</th>\n",
       "      <th>Attrition</th>\n",
       "    </tr>\n",
       "  </thead>\n",
       "  <tbody>\n",
       "    <tr>\n",
       "      <th>0</th>\n",
       "      <td>27</td>\n",
       "      <td>Male</td>\n",
       "      <td>Marketing</td>\n",
       "      <td>Manager</td>\n",
       "      <td>9</td>\n",
       "      <td>0.586251</td>\n",
       "      <td>151</td>\n",
       "      <td>0</td>\n",
       "      <td>60132</td>\n",
       "      <td>0</td>\n",
       "    </tr>\n",
       "    <tr>\n",
       "      <th>1</th>\n",
       "      <td>53</td>\n",
       "      <td>Female</td>\n",
       "      <td>Sales</td>\n",
       "      <td>Engineer</td>\n",
       "      <td>10</td>\n",
       "      <td>0.261161</td>\n",
       "      <td>221</td>\n",
       "      <td>1</td>\n",
       "      <td>79947</td>\n",
       "      <td>0</td>\n",
       "    </tr>\n",
       "    <tr>\n",
       "      <th>2</th>\n",
       "      <td>59</td>\n",
       "      <td>Female</td>\n",
       "      <td>Marketing</td>\n",
       "      <td>Analyst</td>\n",
       "      <td>8</td>\n",
       "      <td>0.304382</td>\n",
       "      <td>184</td>\n",
       "      <td>0</td>\n",
       "      <td>46958</td>\n",
       "      <td>1</td>\n",
       "    </tr>\n",
       "    <tr>\n",
       "      <th>3</th>\n",
       "      <td>42</td>\n",
       "      <td>Female</td>\n",
       "      <td>Engineering</td>\n",
       "      <td>Manager</td>\n",
       "      <td>1</td>\n",
       "      <td>0.480779</td>\n",
       "      <td>242</td>\n",
       "      <td>0</td>\n",
       "      <td>40662</td>\n",
       "      <td>0</td>\n",
       "    </tr>\n",
       "    <tr>\n",
       "      <th>4</th>\n",
       "      <td>44</td>\n",
       "      <td>Female</td>\n",
       "      <td>Sales</td>\n",
       "      <td>Engineer</td>\n",
       "      <td>10</td>\n",
       "      <td>0.636244</td>\n",
       "      <td>229</td>\n",
       "      <td>1</td>\n",
       "      <td>74307</td>\n",
       "      <td>0</td>\n",
       "    </tr>\n",
       "    <tr>\n",
       "      <th>...</th>\n",
       "      <td>...</td>\n",
       "      <td>...</td>\n",
       "      <td>...</td>\n",
       "      <td>...</td>\n",
       "      <td>...</td>\n",
       "      <td>...</td>\n",
       "      <td>...</td>\n",
       "      <td>...</td>\n",
       "      <td>...</td>\n",
       "      <td>...</td>\n",
       "    </tr>\n",
       "    <tr>\n",
       "      <th>995</th>\n",
       "      <td>39</td>\n",
       "      <td>Female</td>\n",
       "      <td>HR</td>\n",
       "      <td>HR Specialist</td>\n",
       "      <td>3</td>\n",
       "      <td>0.377435</td>\n",
       "      <td>239</td>\n",
       "      <td>0</td>\n",
       "      <td>71403</td>\n",
       "      <td>0</td>\n",
       "    </tr>\n",
       "    <tr>\n",
       "      <th>996</th>\n",
       "      <td>50</td>\n",
       "      <td>Male</td>\n",
       "      <td>Engineering</td>\n",
       "      <td>Manager</td>\n",
       "      <td>1</td>\n",
       "      <td>0.431152</td>\n",
       "      <td>154</td>\n",
       "      <td>0</td>\n",
       "      <td>30181</td>\n",
       "      <td>1</td>\n",
       "    </tr>\n",
       "    <tr>\n",
       "      <th>997</th>\n",
       "      <td>52</td>\n",
       "      <td>Male</td>\n",
       "      <td>Engineering</td>\n",
       "      <td>Analyst</td>\n",
       "      <td>3</td>\n",
       "      <td>0.647102</td>\n",
       "      <td>206</td>\n",
       "      <td>0</td>\n",
       "      <td>64143</td>\n",
       "      <td>0</td>\n",
       "    </tr>\n",
       "    <tr>\n",
       "      <th>998</th>\n",
       "      <td>37</td>\n",
       "      <td>Female</td>\n",
       "      <td>HR</td>\n",
       "      <td>HR Specialist</td>\n",
       "      <td>2</td>\n",
       "      <td>0.304813</td>\n",
       "      <td>241</td>\n",
       "      <td>0</td>\n",
       "      <td>74383</td>\n",
       "      <td>1</td>\n",
       "    </tr>\n",
       "    <tr>\n",
       "      <th>999</th>\n",
       "      <td>59</td>\n",
       "      <td>Male</td>\n",
       "      <td>Sales</td>\n",
       "      <td>HR Specialist</td>\n",
       "      <td>1</td>\n",
       "      <td>0.940510</td>\n",
       "      <td>159</td>\n",
       "      <td>0</td>\n",
       "      <td>73220</td>\n",
       "      <td>1</td>\n",
       "    </tr>\n",
       "  </tbody>\n",
       "</table>\n",
       "<p>1000 rows × 10 columns</p>\n",
       "</div>"
      ],
      "text/plain": [
       "     Age  Gender   Department      Job_Title  Years_at_Company  \\\n",
       "0     27    Male    Marketing        Manager                 9   \n",
       "1     53  Female        Sales       Engineer                10   \n",
       "2     59  Female    Marketing        Analyst                 8   \n",
       "3     42  Female  Engineering        Manager                 1   \n",
       "4     44  Female        Sales       Engineer                10   \n",
       "..   ...     ...          ...            ...               ...   \n",
       "995   39  Female           HR  HR Specialist                 3   \n",
       "996   50    Male  Engineering        Manager                 1   \n",
       "997   52    Male  Engineering        Analyst                 3   \n",
       "998   37  Female           HR  HR Specialist                 2   \n",
       "999   59    Male        Sales  HR Specialist                 1   \n",
       "\n",
       "     Satisfaction_Level  Average_Monthly_Hours  Promotion_Last_5Years  Salary  \\\n",
       "0              0.586251                    151                      0   60132   \n",
       "1              0.261161                    221                      1   79947   \n",
       "2              0.304382                    184                      0   46958   \n",
       "3              0.480779                    242                      0   40662   \n",
       "4              0.636244                    229                      1   74307   \n",
       "..                  ...                    ...                    ...     ...   \n",
       "995            0.377435                    239                      0   71403   \n",
       "996            0.431152                    154                      0   30181   \n",
       "997            0.647102                    206                      0   64143   \n",
       "998            0.304813                    241                      0   74383   \n",
       "999            0.940510                    159                      0   73220   \n",
       "\n",
       "     Attrition  \n",
       "0            0  \n",
       "1            0  \n",
       "2            1  \n",
       "3            0  \n",
       "4            0  \n",
       "..         ...  \n",
       "995          0  \n",
       "996          1  \n",
       "997          0  \n",
       "998          1  \n",
       "999          1  \n",
       "\n",
       "[1000 rows x 10 columns]"
      ]
     },
     "execution_count": 9,
     "metadata": {},
     "output_type": "execute_result"
    }
   ],
   "source": [
    "#Drop unwanted columns\n",
    "df.drop(columns=['Employee_ID'])"
   ]
  },
  {
   "cell_type": "code",
   "execution_count": null,
   "id": "5d866947-ef0d-41e2-a89a-e74731b6d175",
   "metadata": {},
   "outputs": [
    {
     "name": "stdout",
     "output_type": "stream",
     "text": [
      "Requirement already satisfied: matplotlib in c:\\users\\mohammed shahul\\anaconda3\\lib\\site-packages (3.8.0)\n",
      "Requirement already satisfied: contourpy>=1.0.1 in c:\\users\\mohammed shahul\\anaconda3\\lib\\site-packages (from matplotlib) (1.2.0)\n",
      "Requirement already satisfied: cycler>=0.10 in c:\\users\\mohammed shahul\\anaconda3\\lib\\site-packages (from matplotlib) (0.11.0)\n",
      "Requirement already satisfied: fonttools>=4.22.0 in c:\\users\\mohammed shahul\\anaconda3\\lib\\site-packages (from matplotlib) (4.25.0)\n",
      "Requirement already satisfied: kiwisolver>=1.0.1 in c:\\users\\mohammed shahul\\anaconda3\\lib\\site-packages (from matplotlib) (1.4.4)\n",
      "Requirement already satisfied: numpy<2,>=1.21 in c:\\users\\mohammed shahul\\anaconda3\\lib\\site-packages (from matplotlib) (1.26.4)\n",
      "Requirement already satisfied: packaging>=20.0 in c:\\users\\mohammed shahul\\anaconda3\\lib\\site-packages (from matplotlib) (23.1)\n",
      "Requirement already satisfied: pillow>=6.2.0 in c:\\users\\mohammed shahul\\anaconda3\\lib\\site-packages (from matplotlib) (10.2.0)\n",
      "Requirement already satisfied: pyparsing>=2.3.1 in c:\\users\\mohammed shahul\\anaconda3\\lib\\site-packages (from matplotlib) (3.0.9)\n",
      "Requirement already satisfied: python-dateutil>=2.7 in c:\\users\\mohammed shahul\\anaconda3\\lib\\site-packages (from matplotlib) (2.8.2)\n",
      "Requirement already satisfied: six>=1.5 in c:\\users\\mohammed shahul\\anaconda3\\lib\\site-packages (from python-dateutil>=2.7->matplotlib) (1.16.0)\n"
     ]
    }
   ],
   "source": [
    "!pip install matplotlib"
   ]
  },
  {
   "cell_type": "code",
   "execution_count": null,
   "id": "42e3cb22-ca7b-4641-ac5c-b8d9e34207e7",
   "metadata": {},
   "outputs": [
    {
     "name": "stdout",
     "output_type": "stream",
     "text": [
      "Gender\n",
      "Male      506\n",
      "Female    494\n",
      "Name: count, dtype: int64\n"
     ]
    },
    {
     "data": {
      "image/png": "[encoded data removed]",
      "text/plain": [
       "<Figure size 640x480 with 1 Axes>"
      ]
     },
     "metadata": {},
     "output_type": "display_data"
    }
   ],
   "source": [
    "#Visualize\n",
    "\n",
    "import matplotlib.pyplot as plt\n",
    "print(df['Gender'].value_counts())\n",
    "df['Gender'].value_counts().plot(kind='pie',autopct='%1.1f%%')\n",
    "plt.ylabel(\"\")\n",
    "plt.title(\"Gender Count of Employee\")\n",
    "plt.show()"
   ]
  },
  {
   "cell_type": "code",
   "execution_count": null,
   "id": "03ba6b9c-cb4e-4aa8-b048-c3ac8b772eb1",
   "metadata": {},
   "outputs": [
    {
     "data": {
      "image/png": "[encoded data removed]",
      "text/plain": [
       "<Figure size 640x480 with 1 Axes>"
      ]
     },
     "metadata": {},
     "output_type": "display_data"
    }
   ],
   "source": [
    "import matplotlib.pyplot as plt\n",
    "df['Job_Title'].value_counts().plot(kind='bar', color='purple')\n",
    "plt.ylabel(\"\")\n",
    "plt.title(\"Job Count of Employee\")\n",
    "plt.show()"
   ]
  },
  {
   "cell_type": "code",
   "execution_count": null,
   "id": "65b90d4d-a3ed-4e81-8829-55478921c6fd",
   "metadata": {},
   "outputs": [
    {
     "data": {
      "image/png": "[encoded data removed]",
      "text/plain": [
       "<Figure size 640x480 with 1 Axes>"
      ]
     },
     "metadata": {},
     "output_type": "display_data"
    }
   ],
   "source": [
    "import matplotlib.pyplot as plt\n",
    "df.groupby('Job_Title')['Salary'].mean().sort_values(ascending=False).plot(kind='line')\n",
    "plt.title(\"Average Salary By Job Title\")\n",
    "plt.xlabel(\"Job Title\")\n",
    "plt.ylabel(\"Average Salary\")\n",
    "\n",
    "plt.show()"
   ]
  },
  {
   "cell_type": "code",
   "execution_count": null,
   "id": "2912bf0b-6c16-4728-bce9-e7cc06186c27",
   "metadata": {},
   "outputs": [
    {
     "data": {
      "text/html": [
       "<div>\n",
       "<style scoped>\n",
       "    .dataframe tbody tr th:only-of-type {\n",
       "        vertical-align: middle;\n",
       "    }\n",
       "\n",
       "    .dataframe tbody tr th {\n",
       "        vertical-align: top;\n",
       "    }\n",
       "\n",
       "    .dataframe thead th {\n",
       "        text-align: right;\n",
       "    }\n",
       "</style>\n",
       "<table border=\"1\" class=\"dataframe\">\n",
       "  <thead>\n",
       "    <tr style=\"text-align: right;\">\n",
       "      <th></th>\n",
       "      <th>Department</th>\n",
       "      <th>Promotion_Last_5Years</th>\n",
       "      <th>Salary</th>\n",
       "    </tr>\n",
       "  </thead>\n",
       "  <tbody>\n",
       "    <tr>\n",
       "      <th>0</th>\n",
       "      <td>Engineering</td>\n",
       "      <td>0</td>\n",
       "      <td>65541.063636</td>\n",
       "    </tr>\n",
       "    <tr>\n",
       "      <th>1</th>\n",
       "      <td>Engineering</td>\n",
       "      <td>1</td>\n",
       "      <td>62424.127660</td>\n",
       "    </tr>\n",
       "    <tr>\n",
       "      <th>2</th>\n",
       "      <td>Finance</td>\n",
       "      <td>0</td>\n",
       "      <td>63390.145299</td>\n",
       "    </tr>\n",
       "    <tr>\n",
       "      <th>3</th>\n",
       "      <td>Finance</td>\n",
       "      <td>1</td>\n",
       "      <td>62041.269663</td>\n",
       "    </tr>\n",
       "    <tr>\n",
       "      <th>4</th>\n",
       "      <td>HR</td>\n",
       "      <td>0</td>\n",
       "      <td>63012.556701</td>\n",
       "    </tr>\n",
       "    <tr>\n",
       "      <th>5</th>\n",
       "      <td>HR</td>\n",
       "      <td>1</td>\n",
       "      <td>65882.861702</td>\n",
       "    </tr>\n",
       "    <tr>\n",
       "      <th>6</th>\n",
       "      <td>Marketing</td>\n",
       "      <td>0</td>\n",
       "      <td>65251.597826</td>\n",
       "    </tr>\n",
       "    <tr>\n",
       "      <th>7</th>\n",
       "      <td>Marketing</td>\n",
       "      <td>1</td>\n",
       "      <td>66018.632653</td>\n",
       "    </tr>\n",
       "    <tr>\n",
       "      <th>8</th>\n",
       "      <td>Sales</td>\n",
       "      <td>0</td>\n",
       "      <td>64295.846939</td>\n",
       "    </tr>\n",
       "    <tr>\n",
       "      <th>9</th>\n",
       "      <td>Sales</td>\n",
       "      <td>1</td>\n",
       "      <td>67838.756757</td>\n",
       "    </tr>\n",
       "  </tbody>\n",
       "</table>\n",
       "</div>"
      ],
      "text/plain": [
       "    Department  Promotion_Last_5Years        Salary\n",
       "0  Engineering                      0  65541.063636\n",
       "1  Engineering                      1  62424.127660\n",
       "2      Finance                      0  63390.145299\n",
       "3      Finance                      1  62041.269663\n",
       "4           HR                      0  63012.556701\n",
       "5           HR                      1  65882.861702\n",
       "6    Marketing                      0  65251.597826\n",
       "7    Marketing                      1  66018.632653\n",
       "8        Sales                      0  64295.846939\n",
       "9        Sales                      1  67838.756757"
      ]
     },
     "execution_count": 14,
     "metadata": {},
     "output_type": "execute_result"
    }
   ],
   "source": [
    "df.groupby(['Department','Promotion_Last_5Years'])['Salary'].mean().reset_index()"
   ]
  },
  {
   "cell_type": "code",
   "execution_count": null,
   "id": "1b281b2e-fed3-4b46-8d70-1aa950408864",
   "metadata": {},
   "outputs": [
    {
     "data": {
      "text/html": [
       "<div>\n",
       "<style scoped>\n",
       "    .dataframe tbody tr th:only-of-type {\n",
       "        vertical-align: middle;\n",
       "    }\n",
       "\n",
       "    .dataframe tbody tr th {\n",
       "        vertical-align: top;\n",
       "    }\n",
       "\n",
       "    .dataframe thead th {\n",
       "        text-align: right;\n",
       "    }\n",
       "</style>\n",
       "<table border=\"1\" class=\"dataframe\">\n",
       "  <thead>\n",
       "    <tr style=\"text-align: right;\">\n",
       "      <th></th>\n",
       "      <th>Employee_ID</th>\n",
       "      <th>Age</th>\n",
       "      <th>Gender</th>\n",
       "      <th>Department</th>\n",
       "      <th>Job_Title</th>\n",
       "      <th>Years_at_Company</th>\n",
       "      <th>Satisfaction_Level</th>\n",
       "      <th>Average_Monthly_Hours</th>\n",
       "      <th>Promotion_Last_5Years</th>\n",
       "      <th>Salary</th>\n",
       "      <th>Attrition</th>\n",
       "    </tr>\n",
       "  </thead>\n",
       "  <tbody>\n",
       "    <tr>\n",
       "      <th>0</th>\n",
       "      <td>0</td>\n",
       "      <td>27</td>\n",
       "      <td>Male</td>\n",
       "      <td>Marketing</td>\n",
       "      <td>Manager</td>\n",
       "      <td>9</td>\n",
       "      <td>0.586251</td>\n",
       "      <td>151</td>\n",
       "      <td>0</td>\n",
       "      <td>60132</td>\n",
       "      <td>0</td>\n",
       "    </tr>\n",
       "    <tr>\n",
       "      <th>1</th>\n",
       "      <td>1</td>\n",
       "      <td>53</td>\n",
       "      <td>Female</td>\n",
       "      <td>Sales</td>\n",
       "      <td>Engineer</td>\n",
       "      <td>10</td>\n",
       "      <td>0.261161</td>\n",
       "      <td>221</td>\n",
       "      <td>1</td>\n",
       "      <td>79947</td>\n",
       "      <td>0</td>\n",
       "    </tr>\n",
       "    <tr>\n",
       "      <th>2</th>\n",
       "      <td>2</td>\n",
       "      <td>59</td>\n",
       "      <td>Female</td>\n",
       "      <td>Marketing</td>\n",
       "      <td>Analyst</td>\n",
       "      <td>8</td>\n",
       "      <td>0.304382</td>\n",
       "      <td>184</td>\n",
       "      <td>0</td>\n",
       "      <td>46958</td>\n",
       "      <td>1</td>\n",
       "    </tr>\n",
       "    <tr>\n",
       "      <th>3</th>\n",
       "      <td>3</td>\n",
       "      <td>42</td>\n",
       "      <td>Female</td>\n",
       "      <td>Engineering</td>\n",
       "      <td>Manager</td>\n",
       "      <td>1</td>\n",
       "      <td>0.480779</td>\n",
       "      <td>242</td>\n",
       "      <td>0</td>\n",
       "      <td>40662</td>\n",
       "      <td>0</td>\n",
       "    </tr>\n",
       "    <tr>\n",
       "      <th>4</th>\n",
       "      <td>4</td>\n",
       "      <td>44</td>\n",
       "      <td>Female</td>\n",
       "      <td>Sales</td>\n",
       "      <td>Engineer</td>\n",
       "      <td>10</td>\n",
       "      <td>0.636244</td>\n",
       "      <td>229</td>\n",
       "      <td>1</td>\n",
       "      <td>74307</td>\n",
       "      <td>0</td>\n",
       "    </tr>\n",
       "  </tbody>\n",
       "</table>\n",
       "</div>"
      ],
      "text/plain": [
       "   Employee_ID  Age  Gender   Department Job_Title  Years_at_Company  \\\n",
       "0            0   27    Male    Marketing   Manager                 9   \n",
       "1            1   53  Female        Sales  Engineer                10   \n",
       "2            2   59  Female    Marketing   Analyst                 8   \n",
       "3            3   42  Female  Engineering   Manager                 1   \n",
       "4            4   44  Female        Sales  Engineer                10   \n",
       "\n",
       "   Satisfaction_Level  Average_Monthly_Hours  Promotion_Last_5Years  Salary  \\\n",
       "0            0.586251                    151                      0   60132   \n",
       "1            0.261161                    221                      1   79947   \n",
       "2            0.304382                    184                      0   46958   \n",
       "3            0.480779                    242                      0   40662   \n",
       "4            0.636244                    229                      1   74307   \n",
       "\n",
       "   Attrition  \n",
       "0          0  \n",
       "1          0  \n",
       "2          1  \n",
       "3          0  \n",
       "4          0  "
      ]
     },
     "execution_count": 15,
     "metadata": {},
     "output_type": "execute_result"
    }
   ],
   "source": [
    "df.head()"
   ]
  },
  {
   "cell_type": "code",
   "execution_count": null,
   "id": "f5f54353-bd95-4353-ae9f-d8bf6b80bbdc",
   "metadata": {},
   "outputs": [
    {
     "data": {
      "text/html": [
       "<div>\n",
       "<style scoped>\n",
       "    .dataframe tbody tr th:only-of-type {\n",
       "        vertical-align: middle;\n",
       "    }\n",
       "\n",
       "    .dataframe tbody tr th {\n",
       "        vertical-align: top;\n",
       "    }\n",
       "\n",
       "    .dataframe thead th {\n",
       "        text-align: right;\n",
       "    }\n",
       "</style>\n",
       "<table border=\"1\" class=\"dataframe\">\n",
       "  <thead>\n",
       "    <tr style=\"text-align: right;\">\n",
       "      <th></th>\n",
       "      <th>Employee_ID</th>\n",
       "      <th>Age</th>\n",
       "      <th>Years_at_Company</th>\n",
       "      <th>Satisfaction_Level</th>\n",
       "      <th>Average_Monthly_Hours</th>\n",
       "      <th>Promotion_Last_5Years</th>\n",
       "      <th>Salary</th>\n",
       "      <th>Attrition</th>\n",
       "    </tr>\n",
       "  </thead>\n",
       "  <tbody>\n",
       "    <tr>\n",
       "      <th>count</th>\n",
       "      <td>1000.000000</td>\n",
       "      <td>1000.000000</td>\n",
       "      <td>1000.000000</td>\n",
       "      <td>1000.000000</td>\n",
       "      <td>1000.000000</td>\n",
       "      <td>1000.000000</td>\n",
       "      <td>1000.000000</td>\n",
       "      <td>1000.000000</td>\n",
       "    </tr>\n",
       "    <tr>\n",
       "      <th>mean</th>\n",
       "      <td>499.500000</td>\n",
       "      <td>42.205000</td>\n",
       "      <td>5.605000</td>\n",
       "      <td>0.505995</td>\n",
       "      <td>199.493000</td>\n",
       "      <td>0.486000</td>\n",
       "      <td>64624.980000</td>\n",
       "      <td>0.495000</td>\n",
       "    </tr>\n",
       "    <tr>\n",
       "      <th>std</th>\n",
       "      <td>288.819436</td>\n",
       "      <td>10.016452</td>\n",
       "      <td>2.822223</td>\n",
       "      <td>0.289797</td>\n",
       "      <td>29.631908</td>\n",
       "      <td>0.500054</td>\n",
       "      <td>20262.984333</td>\n",
       "      <td>0.500225</td>\n",
       "    </tr>\n",
       "    <tr>\n",
       "      <th>min</th>\n",
       "      <td>0.000000</td>\n",
       "      <td>25.000000</td>\n",
       "      <td>1.000000</td>\n",
       "      <td>0.001376</td>\n",
       "      <td>150.000000</td>\n",
       "      <td>0.000000</td>\n",
       "      <td>30099.000000</td>\n",
       "      <td>0.000000</td>\n",
       "    </tr>\n",
       "    <tr>\n",
       "      <th>25%</th>\n",
       "      <td>249.750000</td>\n",
       "      <td>33.000000</td>\n",
       "      <td>3.000000</td>\n",
       "      <td>0.258866</td>\n",
       "      <td>173.000000</td>\n",
       "      <td>0.000000</td>\n",
       "      <td>47613.500000</td>\n",
       "      <td>0.000000</td>\n",
       "    </tr>\n",
       "    <tr>\n",
       "      <th>50%</th>\n",
       "      <td>499.500000</td>\n",
       "      <td>43.000000</td>\n",
       "      <td>6.000000</td>\n",
       "      <td>0.505675</td>\n",
       "      <td>201.000000</td>\n",
       "      <td>0.000000</td>\n",
       "      <td>64525.000000</td>\n",
       "      <td>0.000000</td>\n",
       "    </tr>\n",
       "    <tr>\n",
       "      <th>75%</th>\n",
       "      <td>749.250000</td>\n",
       "      <td>51.000000</td>\n",
       "      <td>8.000000</td>\n",
       "      <td>0.761135</td>\n",
       "      <td>225.000000</td>\n",
       "      <td>1.000000</td>\n",
       "      <td>81921.000000</td>\n",
       "      <td>1.000000</td>\n",
       "    </tr>\n",
       "    <tr>\n",
       "      <th>max</th>\n",
       "      <td>999.000000</td>\n",
       "      <td>59.000000</td>\n",
       "      <td>10.000000</td>\n",
       "      <td>0.999979</td>\n",
       "      <td>249.000000</td>\n",
       "      <td>1.000000</td>\n",
       "      <td>99991.000000</td>\n",
       "      <td>1.000000</td>\n",
       "    </tr>\n",
       "  </tbody>\n",
       "</table>\n",
       "</div>"
      ],
      "text/plain": [
       "       Employee_ID          Age  Years_at_Company  Satisfaction_Level  \\\n",
       "count  1000.000000  1000.000000       1000.000000         1000.000000   \n",
       "mean    499.500000    42.205000          5.605000            0.505995   \n",
       "std     288.819436    10.016452          2.822223            0.289797   \n",
       "min       0.000000    25.000000          1.000000            0.001376   \n",
       "25%     249.750000    33.000000          3.000000            0.258866   \n",
       "50%     499.500000    43.000000          6.000000            0.505675   \n",
       "75%     749.250000    51.000000          8.000000            0.761135   \n",
       "max     999.000000    59.000000         10.000000            0.999979   \n",
       "\n",
       "       Average_Monthly_Hours  Promotion_Last_5Years        Salary    Attrition  \n",
       "count            1000.000000            1000.000000   1000.000000  1000.000000  \n",
       "mean              199.493000               0.486000  64624.980000     0.495000  \n",
       "std                29.631908               0.500054  20262.984333     0.500225  \n",
       "min               150.000000               0.000000  30099.000000     0.000000  \n",
       "25%               173.000000               0.000000  47613.500000     0.000000  \n",
       "50%               201.000000               0.000000  64525.000000     0.000000  \n",
       "75%               225.000000               1.000000  81921.000000     1.000000  \n",
       "max               249.000000               1.000000  99991.000000     1.000000  "
      ]
     },
     "execution_count": 16,
     "metadata": {},
     "output_type": "execute_result"
    }
   ],
   "source": [
    "df.describe()"
   ]
  },
  {
   "cell_type": "code",
   "execution_count": null,
   "id": "2a10349e-f80d-4ac6-bba4-20465b18374a",
   "metadata": {},
   "outputs": [],
   "source": [
    "\n",
    "\n",
    "X=df[['Years_at_Company', 'Satisfaction_Level', 'Average_Monthly_Hours']]\n",
    "y=df['Salary']"
   ]
  },
  {
   "cell_type": "code",
   "execution_count": null,
   "id": "0253120d-8f21-4c5d-85cd-d1d4c5ab1df8",
   "metadata": {},
   "outputs": [
    {
     "name": "stdout",
     "output_type": "stream",
     "text": [
      "Requirement already satisfied: scikit-learn in c:\\users\\mohammed shahul\\anaconda3\\lib\\site-packages (1.2.2)\n",
      "Requirement already satisfied: numpy>=1.17.3 in c:\\users\\mohammed shahul\\anaconda3\\lib\\site-packages (from scikit-learn) (1.26.4)\n",
      "Requirement already satisfied: scipy>=1.3.2 in c:\\users\\mohammed shahul\\anaconda3\\lib\\site-packages (from scikit-learn) (1.11.4)\n",
      "Requirement already satisfied: joblib>=1.1.1 in c:\\users\\mohammed shahul\\anaconda3\\lib\\site-packages (from scikit-learn) (1.2.0)\n",
      "Requirement already satisfied: threadpoolctl>=2.0.0 in c:\\users\\mohammed shahul\\anaconda3\\lib\\site-packages (from scikit-learn) (2.2.0)\n"
     ]
    }
   ],
   "source": [
    "!pip install scikit-learn"
   ]
  },
  {
   "cell_type": "code",
   "execution_count": null,
   "id": "ec86fc44-a4e7-4cbe-a8e3-e02d9a87e977",
   "metadata": {},
   "outputs": [],
   "source": [
    "#Training and testing\n",
    "\n",
    "from sklearn.model_selection import train_test_split\n",
    "X_train, X_test, y_train, y_test = train_test_split(X, y, test_size=0.2, random_state=42)"
   ]
  },
  {
   "cell_type": "code",
   "execution_count": null,
   "id": "9bfb9d0c-1d1d-4f57-9cfe-e01613439adb",
   "metadata": {},
   "outputs": [
    {
     "data": {
      "text/html": [
       "<div>\n",
       "<style scoped>\n",
       "    .dataframe tbody tr th:only-of-type {\n",
       "        vertical-align: middle;\n",
       "    }\n",
       "\n",
       "    .dataframe tbody tr th {\n",
       "        vertical-align: top;\n",
       "    }\n",
       "\n",
       "    .dataframe thead th {\n",
       "        text-align: right;\n",
       "    }\n",
       "</style>\n",
       "<table border=\"1\" class=\"dataframe\">\n",
       "  <thead>\n",
       "    <tr style=\"text-align: right;\">\n",
       "      <th></th>\n",
       "      <th>Years_at_Company</th>\n",
       "      <th>Satisfaction_Level</th>\n",
       "      <th>Average_Monthly_Hours</th>\n",
       "    </tr>\n",
       "  </thead>\n",
       "  <tbody>\n",
       "    <tr>\n",
       "      <th>0</th>\n",
       "      <td>9</td>\n",
       "      <td>0.586251</td>\n",
       "      <td>151</td>\n",
       "    </tr>\n",
       "    <tr>\n",
       "      <th>1</th>\n",
       "      <td>10</td>\n",
       "      <td>0.261161</td>\n",
       "      <td>221</td>\n",
       "    </tr>\n",
       "    <tr>\n",
       "      <th>2</th>\n",
       "      <td>8</td>\n",
       "      <td>0.304382</td>\n",
       "      <td>184</td>\n",
       "    </tr>\n",
       "    <tr>\n",
       "      <th>3</th>\n",
       "      <td>1</td>\n",
       "      <td>0.480779</td>\n",
       "      <td>242</td>\n",
       "    </tr>\n",
       "    <tr>\n",
       "      <th>4</th>\n",
       "      <td>10</td>\n",
       "      <td>0.636244</td>\n",
       "      <td>229</td>\n",
       "    </tr>\n",
       "    <tr>\n",
       "      <th>...</th>\n",
       "      <td>...</td>\n",
       "      <td>...</td>\n",
       "      <td>...</td>\n",
       "    </tr>\n",
       "    <tr>\n",
       "      <th>995</th>\n",
       "      <td>3</td>\n",
       "      <td>0.377435</td>\n",
       "      <td>239</td>\n",
       "    </tr>\n",
       "    <tr>\n",
       "      <th>996</th>\n",
       "      <td>1</td>\n",
       "      <td>0.431152</td>\n",
       "      <td>154</td>\n",
       "    </tr>\n",
       "    <tr>\n",
       "      <th>997</th>\n",
       "      <td>3</td>\n",
       "      <td>0.647102</td>\n",
       "      <td>206</td>\n",
       "    </tr>\n",
       "    <tr>\n",
       "      <th>998</th>\n",
       "      <td>2</td>\n",
       "      <td>0.304813</td>\n",
       "      <td>241</td>\n",
       "    </tr>\n",
       "    <tr>\n",
       "      <th>999</th>\n",
       "      <td>1</td>\n",
       "      <td>0.940510</td>\n",
       "      <td>159</td>\n",
       "    </tr>\n",
       "  </tbody>\n",
       "</table>\n",
       "<p>1000 rows × 3 columns</p>\n",
       "</div>"
      ],
      "text/plain": [
       "     Years_at_Company  Satisfaction_Level  Average_Monthly_Hours\n",
       "0                   9            0.586251                    151\n",
       "1                  10            0.261161                    221\n",
       "2                   8            0.304382                    184\n",
       "3                   1            0.480779                    242\n",
       "4                  10            0.636244                    229\n",
       "..                ...                 ...                    ...\n",
       "995                 3            0.377435                    239\n",
       "996                 1            0.431152                    154\n",
       "997                 3            0.647102                    206\n",
       "998                 2            0.304813                    241\n",
       "999                 1            0.940510                    159\n",
       "\n",
       "[1000 rows x 3 columns]"
      ]
     },
     "execution_count": 20,
     "metadata": {},
     "output_type": "execute_result"
    }
   ],
   "source": [
    "X"
   ]
  },
  {
   "cell_type": "code",
   "execution_count": null,
   "id": "41faac26-a132-41a8-860a-c82f3b3e9240",
   "metadata": {},
   "outputs": [],
   "source": [
    "#Scaling the data\n",
    "\n",
    "from sklearn.preprocessing import StandardScaler\n",
    "scaler= StandardScaler()\n",
    "X_train=scaler.fit_transform(X_train)\n"
   ]
  },
  {
   "cell_type": "code",
   "execution_count": null,
   "id": "faf250ac-0b0c-48d2-bc5d-7c4a9f38b51e",
   "metadata": {},
   "outputs": [
    {
     "data": {
      "text/plain": [
       "array([[-0.9143998 ,  0.38647326, -0.17633253],\n",
       "       [-0.56100857, -0.95914995,  0.09566752],\n",
       "       [-1.62118225, -1.02082305,  0.63966763],\n",
       "       ...,\n",
       "       [ 1.55933879,  0.90149189,  0.36766757],\n",
       "       [-0.20761735,  0.03697987, -1.36633277],\n",
       "       [-0.56100857,  0.55014033,  1.5236678 ]])"
      ]
     },
     "execution_count": 22,
     "metadata": {},
     "output_type": "execute_result"
    }
   ],
   "source": [
    "X_train"
   ]
  },
  {
   "cell_type": "code",
   "execution_count": null,
   "id": "9b81643f-dda6-48a5-9a92-d8925de110a5",
   "metadata": {},
   "outputs": [
    {
     "data": {
      "text/plain": [
       "['scaler.pkl']"
      ]
     },
     "execution_count": 23,
     "metadata": {},
     "output_type": "execute_result"
    }
   ],
   "source": [
    "#Saving the scaler object\n",
    "import joblib\n",
    "joblib.dump(scaler, \"scaler.pkl\")"
   ]
  },
  {
   "cell_type": "code",
   "execution_count": null,
   "id": "c20ff493-039a-48fc-acc0-e019b9e29890",
   "metadata": {},
   "outputs": [],
   "source": [
    "X_test= scaler.fit_transform(X_test)"
   ]
  },
  {
   "cell_type": "code",
   "execution_count": null,
   "id": "f5b2f3e2-b27a-486c-906d-b0a7662991b4",
   "metadata": {},
   "outputs": [
    {
     "data": {
      "text/plain": [
       "array([[ 0.47597324,  1.30983557,  0.33822898],\n",
       "       [ 1.19442342, -1.72064442, -0.91203378],\n",
       "       [ 1.55364851, -0.41804212, -0.05659084],\n",
       "       [ 1.55364851, -1.7959776 , -1.10944369],\n",
       "       [-0.24247694, -0.56605424, -1.10944369],\n",
       "       [ 0.83519833,  0.94451894, -1.5042635 ],\n",
       "       [ 0.47597324, -0.43212457, -1.5042635 ],\n",
       "       [ 0.47597324,  0.87641335,  1.48978678],\n",
       "       [-0.24247694,  0.10446999, -1.57006681],\n",
       "       [-0.24247694,  0.53445167,  1.45688512],\n",
       "       [ 0.83519833, -0.5658673 ,  0.50273723],\n",
       "       [ 0.11674815,  1.18744793, -0.55011561],\n",
       "       [ 0.83519833,  0.40748739, -0.58301726],\n",
       "       [ 0.47597324, -1.10009824,  1.58849173],\n",
       "       [ 0.47597324,  0.09453447,  0.07501577],\n",
       "       [-1.67937729,  0.28111418, -1.47136185],\n",
       "       [-0.96092711, -1.73083212,  0.83175375],\n",
       "       [ 1.19442342,  1.37039705,  0.89755705],\n",
       "       [ 0.47597324,  0.40164366, -1.20814864],\n",
       "       [-1.3201522 , -0.49251488,  0.89755705],\n",
       "       [ 0.47597324, -0.88101666,  0.96336035],\n",
       "       [-0.96092711,  0.80724756, -1.24105029],\n",
       "       [ 1.55364851,  0.77704404,  0.40403228],\n",
       "       [-0.24247694,  1.15081907,  0.60144219],\n",
       "       [-0.96092711,  1.28727   ,  1.45688512],\n",
       "       [-0.24247694,  1.43916143,  0.9304587 ],\n",
       "       [ 1.55364851, -0.84412102, -1.17524699],\n",
       "       [ 0.83519833, -1.52814103, -0.2210991 ],\n",
       "       [ 0.11674815, -0.78659711, -1.07654203],\n",
       "       [-0.96092711,  0.50911574,  0.27242567],\n",
       "       [ 1.55364851, -1.22545479, -1.66877176],\n",
       "       [ 0.11674815,  0.316436  , -0.02368919],\n",
       "       [ 1.55364851, -0.73675323,  0.50273723],\n",
       "       [-0.24247694, -0.82763942, -0.61591891],\n",
       "       [-1.3201522 ,  1.20452923,  0.40403228],\n",
       "       [ 0.11674815,  0.32912568,  1.39108182],\n",
       "       [-1.67937729, -1.61845547, -1.04364038],\n",
       "       [-0.60170202,  1.46190602,  1.42398347],\n",
       "       [ 0.83519833,  0.81297989, -1.17524699],\n",
       "       [ 1.55364851,  1.37879111, -0.15529579],\n",
       "       [ 1.19442342,  1.0156662 , -1.47136185],\n",
       "       [-0.24247694,  1.36020161, -0.81332882],\n",
       "       [-0.24247694,  1.14328328, -0.51721396],\n",
       "       [-0.96092711,  0.31581943,  0.17372072],\n",
       "       [-1.3201522 , -0.87696196,  0.46983558],\n",
       "       [-0.60170202,  0.45201318,  0.33822898],\n",
       "       [-1.67937729, -1.83314166,  1.29237687],\n",
       "       [-0.60170202, -1.17192599, -1.01073873],\n",
       "       [-0.96092711,  1.52402531,  0.83175375],\n",
       "       [-1.3201522 , -0.35039355, -0.84623047],\n",
       "       [ 1.55364851,  0.02103761, -0.74752552],\n",
       "       [-1.3201522 , -1.56925356, -0.3527057 ],\n",
       "       [ 0.83519833,  0.95225289, -1.63587011],\n",
       "       [-1.67937729,  0.58119574, -1.30685359],\n",
       "       [ 1.19442342,  0.36149688,  0.50273723],\n",
       "       [ 0.11674815,  0.96204531, -0.31980405],\n",
       "       [-1.67937729,  1.03866261,  0.96336035],\n",
       "       [-0.24247694, -0.56856333, -0.74752552],\n",
       "       [ 0.11674815, -0.15290208, -1.14234534],\n",
       "       [ 0.47597324, -1.65213061,  0.33822898],\n",
       "       [ 0.47597324, -0.14072231,  1.09496696],\n",
       "       [-1.3201522 , -0.16593796,  0.9304587 ],\n",
       "       [ 1.19442342,  0.55365985, -1.63587011],\n",
       "       [ 0.83519833,  0.3020497 , -1.33975525],\n",
       "       [-0.96092711, -1.55743113,  1.55559008],\n",
       "       [ 1.55364851, -1.83035604, -0.78042717],\n",
       "       [-0.60170202,  0.22254759, -1.24105029],\n",
       "       [ 0.83519833,  0.52005178, -0.81332882],\n",
       "       [ 0.11674815,  1.49132317, -1.07654203],\n",
       "       [ 0.83519833, -0.9369431 ,  1.02916366],\n",
       "       [ 0.11674815,  1.2677119 , -0.61591891],\n",
       "       [-1.67937729, -1.41457132,  0.63434384],\n",
       "       [ 1.19442342,  1.21587619,  0.89755705],\n",
       "       [ 1.55364851,  0.22583363, -1.63587011],\n",
       "       [-0.60170202,  0.05832391,  0.83175375],\n",
       "       [-1.3201522 , -0.70407477, -0.45141066],\n",
       "       [-0.24247694, -0.15364199, -0.02368919],\n",
       "       [-0.24247694,  0.5409076 ,  0.00921246],\n",
       "       [ 0.83519833, -0.24970712,  0.66724549],\n",
       "       [ 0.83519833, -0.98761414, -1.63587011],\n",
       "       [-0.24247694,  0.18116876,  0.56854054],\n",
       "       [ 1.19442342,  1.30430287,  1.45688512],\n",
       "       [ 0.47597324,  1.01638179, -0.45141066],\n",
       "       [ 0.83519833, -0.61593409,  0.04211411],\n",
       "       [-0.24247694,  1.04969743,  0.00921246],\n",
       "       [ 0.83519833,  1.22236597, -0.48431231],\n",
       "       [-1.3201522 , -0.7748525 ,  1.32527852],\n",
       "       [-1.3201522 , -0.70964123, -0.78042717],\n",
       "       [ 1.55364851,  0.0996361 ,  0.30532733],\n",
       "       [ 0.83519833, -0.17915394, -0.48431231],\n",
       "       [ 0.47597324,  1.56968072,  1.52268843],\n",
       "       [-1.67937729, -0.16310891,  0.10791742],\n",
       "       [-1.3201522 ,  1.08494699,  0.8646554 ],\n",
       "       [ 1.19442342, -0.74229312,  1.25947522],\n",
       "       [ 0.11674815, -1.23576988, -1.40555855],\n",
       "       [ 1.19442342,  1.32331108,  0.9304587 ],\n",
       "       [ 1.19442342, -1.11358695,  0.50273723],\n",
       "       [ 0.83519833,  0.67586925, -1.24105029],\n",
       "       [ 0.83519833,  0.82557975,  0.43693393],\n",
       "       [ 0.47597324, -1.57313407, -1.5042635 ],\n",
       "       [ 1.55364851,  1.3190932 , -0.64882057],\n",
       "       [-0.60170202, -0.17759457, -1.5042635 ],\n",
       "       [ 0.11674815,  0.79717542, -1.63587011],\n",
       "       [ 0.47597324, -0.67530347,  1.32527852],\n",
       "       [ 0.83519833, -0.68934152, -0.91203378],\n",
       "       [-0.96092711, -1.30762612, -0.84623047],\n",
       "       [ 0.11674815, -1.67771065, -0.2210991 ],\n",
       "       [ 0.83519833, -0.20580087, -1.04364038],\n",
       "       [-0.96092711, -1.01785354,  1.02916366],\n",
       "       [ 0.11674815,  1.60663131, -1.57006681],\n",
       "       [-1.67937729, -0.57314087,  0.8646554 ],\n",
       "       [-1.3201522 ,  0.06609999,  0.89755705],\n",
       "       [ 1.55364851,  0.18466923,  0.50273723],\n",
       "       [ 1.19442342, -1.02644392,  1.22657356],\n",
       "       [-1.67937729,  1.21201936,  0.56854054],\n",
       "       [-0.60170202,  0.70823887,  0.70014714],\n",
       "       [-0.60170202,  0.79802306,  1.19367191],\n",
       "       [-0.96092711,  0.6259102 ,  0.50273723],\n",
       "       [-0.96092711,  0.20566989,  0.70014714],\n",
       "       [ 0.83519833, -0.71985187,  1.52268843],\n",
       "       [-1.67937729, -1.65872714, -1.5042635 ],\n",
       "       [ 0.83519833,  0.9924924 , -0.15529579],\n",
       "       [ 1.55364851, -0.94438108, -0.58301726],\n",
       "       [-0.60170202,  1.28652556, -0.31980405],\n",
       "       [-0.60170202,  1.11917958, -1.66877176],\n",
       "       [ 0.11674815,  0.47468111,  0.83175375],\n",
       "       [ 1.55364851, -1.33581703,  0.8646554 ],\n",
       "       [-0.24247694,  0.63551155,  1.39108182],\n",
       "       [ 0.83519833,  0.52662234,  1.06206531],\n",
       "       [ 0.47597324, -0.56048893, -0.41850901],\n",
       "       [ 0.11674815,  1.55107727,  0.73304879],\n",
       "       [-0.96092711, -0.49729622,  0.70014714],\n",
       "       [-0.60170202,  0.08070553, -0.48431231],\n",
       "       [-0.96092711, -0.51571821,  1.25947522],\n",
       "       [ 0.47597324, -0.58955583, -0.38560735],\n",
       "       [ 0.11674815,  1.03549599,  1.58849173],\n",
       "       [-0.60170202,  1.52206456, -0.05659084],\n",
       "       [ 0.83519833,  0.38340071,  0.60144219],\n",
       "       [ 1.19442342, -1.10517645, -1.27395194],\n",
       "       [-0.24247694, -0.31703974, -1.07654203],\n",
       "       [-0.96092711, -0.84989427,  0.83175375],\n",
       "       [ 0.11674815,  1.43703606,  0.10791742],\n",
       "       [-1.67937729,  1.2373993 ,  0.50273723],\n",
       "       [-0.96092711, -1.26754465, -1.01073873],\n",
       "       [-0.96092711,  1.36391586, -0.68172222],\n",
       "       [-0.96092711, -0.51809418,  1.12786861],\n",
       "       [ 0.83519833,  0.45041904, -0.15529579],\n",
       "       [-0.24247694,  0.76060776, -1.40555855],\n",
       "       [ 0.83519833,  0.39642344,  1.35818017],\n",
       "       [ 1.19442342,  1.57334818,  1.55559008],\n",
       "       [-1.3201522 , -1.59405662, -1.24105029],\n",
       "       [ 0.47597324, -1.25380582,  0.46983558],\n",
       "       [-0.60170202, -0.05878953, -1.4384602 ],\n",
       "       [-0.24247694,  0.48157735,  0.7988521 ],\n",
       "       [-1.3201522 , -0.59746916, -0.84623047],\n",
       "       [-0.60170202, -0.86127747,  0.66724549],\n",
       "       [-1.67937729,  1.53969632,  0.33822898],\n",
       "       [-0.60170202,  1.54244353,  0.9304587 ],\n",
       "       [-0.24247694, -0.75431586, -0.18819745],\n",
       "       [-0.60170202, -1.32095061, -1.66877176],\n",
       "       [ 1.19442342, -0.76856204,  0.50273723],\n",
       "       [ 1.55364851,  0.63921647,  0.9304587 ],\n",
       "       [ 1.19442342,  1.57697799,  0.30532733],\n",
       "       [-1.67937729, -1.11392498,  1.55559008],\n",
       "       [ 0.11674815,  1.05876413,  0.96336035],\n",
       "       [-0.24247694, -1.40952967,  1.22657356],\n",
       "       [-0.24247694,  0.92382311,  1.32527852],\n",
       "       [ 0.11674815,  0.11070239,  1.12786861],\n",
       "       [-1.67937729,  0.12636977, -0.87913213],\n",
       "       [ 1.55364851, -0.31696521,  1.25947522],\n",
       "       [-1.67937729,  0.58453414, -1.66877176],\n",
       "       [-0.96092711, -0.68463156,  0.07501577],\n",
       "       [-0.60170202,  1.47772362,  0.27242567],\n",
       "       [ 0.83519833,  0.7011686 ,  0.30532733],\n",
       "       [-1.3201522 , -0.13112115, -1.01073873],\n",
       "       [-1.3201522 , -1.37126458, -0.2869024 ],\n",
       "       [ 0.83519833,  0.28253879,  0.33822898],\n",
       "       [-1.3201522 , -0.06706287, -0.05659084],\n",
       "       [ 0.11674815, -0.14496888, -0.71462387],\n",
       "       [-1.67937729, -1.41377478,  0.96336035],\n",
       "       [ 0.47597324, -1.32327538, -1.57006681],\n",
       "       [ 1.55364851,  0.88381377, -1.66877176],\n",
       "       [ 0.11674815, -1.55845269,  1.52268843],\n",
       "       [ 0.47597324, -1.47824878,  1.45688512],\n",
       "       [-0.96092711, -0.47380886, -0.15529579],\n",
       "       [-0.24247694,  1.55082662,  1.22657356],\n",
       "       [ 1.55364851, -1.48428386, -0.58301726],\n",
       "       [-1.3201522 ,  1.15577877, -1.5042635 ],\n",
       "       [-0.60170202,  0.24006913,  0.46983558],\n",
       "       [-1.3201522 , -0.99108741,  1.39108182],\n",
       "       [-0.24247694, -1.36047043,  0.50273723],\n",
       "       [ 1.55364851, -1.07562715,  0.70014714],\n",
       "       [ 0.11674815,  0.83662354,  0.96336035],\n",
       "       [ 1.19442342, -1.20161591,  0.60144219],\n",
       "       [ 0.11674815, -1.67127279, -1.57006681],\n",
       "       [ 1.55364851,  0.3032677 ,  0.56854054],\n",
       "       [-0.60170202, -1.23592995, -0.81332882],\n",
       "       [ 0.83519833,  0.83478381,  0.30532733],\n",
       "       [ 0.83519833, -0.70721538, -1.66877176],\n",
       "       [-0.60170202,  0.68143962, -0.3527057 ]])"
      ]
     },
     "execution_count": 25,
     "metadata": {},
     "output_type": "execute_result"
    }
   ],
   "source": [
    "X_test"
   ]
  },
  {
   "cell_type": "code",
   "execution_count": null,
   "id": "20af7eab-9789-4104-b5a8-7202e3ee4b75",
   "metadata": {},
   "outputs": [],
   "source": [
    "import numpy as np\n",
    "from sklearn.metrics import mean_squared_error,mean_absolute_error\n",
    "#To Evaluate model's performance\n",
    "#MSE - To Emphasize larger Errors\n",
    "#MAE - To Focus on Avearge Errors\n",
    "def results(predictions):\n",
    "    print(\"Mean absolute error on model is {}\", format(mean_absolute_error(y_test,predictions)))\n",
    "    print(\"Root mean squared error on model is {}\", format(np.sqrt(mean_squared_error(y_test,predictions))))"
   ]
  },
  {
   "cell_type": "code",
   "execution_count": null,
   "id": "81a7acf0-df83-47dc-9dc0-7dffa66741c0",
   "metadata": {},
   "outputs": [
    {
     "data": {
      "text/html": [
       "<style>#sk-container-id-1 {color: black;background-color: white;}#sk-container-id-1 pre{padding: 0;}#sk-container-id-1 div.sk-toggleable {background-color: white;}#sk-container-id-1 label.sk-toggleable__label {cursor: pointer;display: block;width: 100%;margin-bottom: 0;padding: 0.3em;box-sizing: border-box;text-align: center;}#sk-container-id-1 label.sk-toggleable__label-arrow:before {content: \"▸\";float: left;margin-right: 0.25em;color: #696969;}#sk-container-id-1 label.sk-toggleable__label-arrow:hover:before {color: black;}#sk-container-id-1 div.sk-estimator:hover label.sk-toggleable__label-arrow:before {color: black;}#sk-container-id-1 div.sk-toggleable__content {max-height: 0;max-width: 0;overflow: hidden;text-align: left;background-color: #f0f8ff;}#sk-container-id-1 div.sk-toggleable__content pre {margin: 0.2em;color: black;border-radius: 0.25em;background-color: #f0f8ff;}#sk-container-id-1 input.sk-toggleable__control:checked~div.sk-toggleable__content {max-height: 200px;max-width: 100%;overflow: auto;}#sk-container-id-1 input.sk-toggleable__control:checked~label.sk-toggleable__label-arrow:before {content: \"▾\";}#sk-container-id-1 div.sk-estimator input.sk-toggleable__control:checked~label.sk-toggleable__label {background-color: #d4ebff;}#sk-container-id-1 div.sk-label input.sk-toggleable__control:checked~label.sk-toggleable__label {background-color: #d4ebff;}#sk-container-id-1 input.sk-hidden--visually {border: 0;clip: rect(1px 1px 1px 1px);clip: rect(1px, 1px, 1px, 1px);height: 1px;margin: -1px;overflow: hidden;padding: 0;position: absolute;width: 1px;}#sk-container-id-1 div.sk-estimator {font-family: monospace;background-color: #f0f8ff;border: 1px dotted black;border-radius: 0.25em;box-sizing: border-box;margin-bottom: 0.5em;}#sk-container-id-1 div.sk-estimator:hover {background-color: #d4ebff;}#sk-container-id-1 div.sk-parallel-item::after {content: \"\";width: 100%;border-bottom: 1px solid gray;flex-grow: 1;}#sk-container-id-1 div.sk-label:hover label.sk-toggleable__label {background-color: #d4ebff;}#sk-container-id-1 div.sk-serial::before {content: \"\";position: absolute;border-left: 1px solid gray;box-sizing: border-box;top: 0;bottom: 0;left: 50%;z-index: 0;}#sk-container-id-1 div.sk-serial {display: flex;flex-direction: column;align-items: center;background-color: white;padding-right: 0.2em;padding-left: 0.2em;position: relative;}#sk-container-id-1 div.sk-item {position: relative;z-index: 1;}#sk-container-id-1 div.sk-parallel {display: flex;align-items: stretch;justify-content: center;background-color: white;position: relative;}#sk-container-id-1 div.sk-item::before, #sk-container-id-1 div.sk-parallel-item::before {content: \"\";position: absolute;border-left: 1px solid gray;box-sizing: border-box;top: 0;bottom: 0;left: 50%;z-index: -1;}#sk-container-id-1 div.sk-parallel-item {display: flex;flex-direction: column;z-index: 1;position: relative;background-color: white;}#sk-container-id-1 div.sk-parallel-item:first-child::after {align-self: flex-end;width: 50%;}#sk-container-id-1 div.sk-parallel-item:last-child::after {align-self: flex-start;width: 50%;}#sk-container-id-1 div.sk-parallel-item:only-child::after {width: 0;}#sk-container-id-1 div.sk-dashed-wrapped {border: 1px dashed gray;margin: 0 0.4em 0.5em 0.4em;box-sizing: border-box;padding-bottom: 0.4em;background-color: white;}#sk-container-id-1 div.sk-label label {font-family: monospace;font-weight: bold;display: inline-block;line-height: 1.2em;}#sk-container-id-1 div.sk-label-container {text-align: center;}#sk-container-id-1 div.sk-container {/* jupyter's `normalize.less` sets `[hidden] { display: none; }` but bootstrap.min.css set `[hidden] { display: none !important; }` so we also need the `!important` here to be able to override the default hidden behavior on the sphinx rendered scikit-learn.org. See: https://github.com/scikit-learn/scikit-learn/issues/21755 */display: inline-block !important;position: relative;}#sk-container-id-1 div.sk-text-repr-fallback {display: none;}</style><div id=\"sk-container-id-1\" class=\"sk-top-container\"><div class=\"sk-text-repr-fallback\"><pre>LinearRegression()</pre><b>In a Jupyter environment, please rerun this cell to show the HTML representation or trust the notebook. <br />On GitHub, the HTML representation is unable to render, please try loading this page with nbviewer.org.</b></div><div class=\"sk-container\" hidden><div class=\"sk-item\"><div class=\"sk-estimator sk-toggleable\"><input class=\"sk-toggleable__control sk-hidden--visually\" id=\"sk-estimator-id-1\" type=\"checkbox\" checked><label for=\"sk-estimator-id-1\" class=\"sk-toggleable__label sk-toggleable__label-arrow\">LinearRegression</label><div class=\"sk-toggleable__content\"><pre>LinearRegression()</pre></div></div></div></div></div>"
      ],
      "text/plain": [
       "LinearRegression()"
      ]
     },
     "execution_count": 27,
     "metadata": {},
     "output_type": "execute_result"
    }
   ],
   "source": [
    "from sklearn.linear_model import LinearRegression\n",
    "lr=LinearRegression()\n",
    "lr.fit(X_train,y_train)"
   ]
  },
  {
   "cell_type": "code",
   "execution_count": null,
   "id": "f96e304b-2e51-43db-a3fd-88223f2b01d4",
   "metadata": {},
   "outputs": [],
   "source": [
    "predictionlr=lr.predict(X_test)\n"
   ]
  },
  {
   "cell_type": "code",
   "execution_count": null,
   "id": "d7ed0238-2e21-47b0-b8d1-e3135ed94775",
   "metadata": {},
   "outputs": [
    {
     "name": "stdout",
     "output_type": "stream",
     "text": [
      "Mean absolute error on model is {} 18465.74543095977\n",
      "Root mean squared error on model is {} 21136.75693788642\n"
     ]
    }
   ],
   "source": [
    "results(predictionlr)"
   ]
  },
  {
   "cell_type": "code",
   "execution_count": null,
   "id": "d0636c22-79fc-4e2b-bee2-54ea6bf27692",
   "metadata": {},
   "outputs": [],
   "source": [
    "from sklearn.model_selection import GridSearchCV\n",
    "#Support Vector Regression from Support Vector Machine\n",
    "from sklearn.svm import SVR #for Classification and Regression"
   ]
  },
  {
   "cell_type": "code",
   "execution_count": null,
   "id": "4925bdd4-940e-4f33-9894-f3e906407a14",
   "metadata": {},
   "outputs": [],
   "source": [
    "svrmodel=SVR()"
   ]
  },
  {
   "cell_type": "code",
   "execution_count": null,
   "id": "8f4adba2-14c4-46e4-8fd0-2c866dd23bf7",
   "metadata": {},
   "outputs": [],
   "source": [
    "#Defining a grid of hyperparameters for svr\n",
    "param_gridsvr= {\n",
    "    'C': [0.1,1,10],\n",
    "    'epsilon': [0.1,0.2,0.5],\n",
    "    'kernel': ['linear','poly','rbf'],\n",
    "    'degree': [2,3,4],\n",
    "}"
   ]
  },
  {
   "cell_type": "code",
   "execution_count": null,
   "id": "92275189-7b29-4785-b20a-986764360bf9",
   "metadata": {},
   "outputs": [],
   "source": [
    "#To Tune the hyperparameters of a Support Vector Machine model\n",
    "\n",
    "gridsvr=GridSearchCV(svrmodel,param_gridsvr)"
   ]
  },
  {
   "cell_type": "code",
   "execution_count": null,
   "id": "c0535f19-ad8d-4738-bae9-b46841f851ab",
   "metadata": {},
   "outputs": [
    {
     "data": {
      "text/html": [
       "<style>#sk-container-id-2 {color: black;background-color: white;}#sk-container-id-2 pre{padding: 0;}#sk-container-id-2 div.sk-toggleable {background-color: white;}#sk-container-id-2 label.sk-toggleable__label {cursor: pointer;display: block;width: 100%;margin-bottom: 0;padding: 0.3em;box-sizing: border-box;text-align: center;}#sk-container-id-2 label.sk-toggleable__label-arrow:before {content: \"▸\";float: left;margin-right: 0.25em;color: #696969;}#sk-container-id-2 label.sk-toggleable__label-arrow:hover:before {color: black;}#sk-container-id-2 div.sk-estimator:hover label.sk-toggleable__label-arrow:before {color: black;}#sk-container-id-2 div.sk-toggleable__content {max-height: 0;max-width: 0;overflow: hidden;text-align: left;background-color: #f0f8ff;}#sk-container-id-2 div.sk-toggleable__content pre {margin: 0.2em;color: black;border-radius: 0.25em;background-color: #f0f8ff;}#sk-container-id-2 input.sk-toggleable__control:checked~div.sk-toggleable__content {max-height: 200px;max-width: 100%;overflow: auto;}#sk-container-id-2 input.sk-toggleable__control:checked~label.sk-toggleable__label-arrow:before {content: \"▾\";}#sk-container-id-2 div.sk-estimator input.sk-toggleable__control:checked~label.sk-toggleable__label {background-color: #d4ebff;}#sk-container-id-2 div.sk-label input.sk-toggleable__control:checked~label.sk-toggleable__label {background-color: #d4ebff;}#sk-container-id-2 input.sk-hidden--visually {border: 0;clip: rect(1px 1px 1px 1px);clip: rect(1px, 1px, 1px, 1px);height: 1px;margin: -1px;overflow: hidden;padding: 0;position: absolute;width: 1px;}#sk-container-id-2 div.sk-estimator {font-family: monospace;background-color: #f0f8ff;border: 1px dotted black;border-radius: 0.25em;box-sizing: border-box;margin-bottom: 0.5em;}#sk-container-id-2 div.sk-estimator:hover {background-color: #d4ebff;}#sk-container-id-2 div.sk-parallel-item::after {content: \"\";width: 100%;border-bottom: 1px solid gray;flex-grow: 1;}#sk-container-id-2 div.sk-label:hover label.sk-toggleable__label {background-color: #d4ebff;}#sk-container-id-2 div.sk-serial::before {content: \"\";position: absolute;border-left: 1px solid gray;box-sizing: border-box;top: 0;bottom: 0;left: 50%;z-index: 0;}#sk-container-id-2 div.sk-serial {display: flex;flex-direction: column;align-items: center;background-color: white;padding-right: 0.2em;padding-left: 0.2em;position: relative;}#sk-container-id-2 div.sk-item {position: relative;z-index: 1;}#sk-container-id-2 div.sk-parallel {display: flex;align-items: stretch;justify-content: center;background-color: white;position: relative;}#sk-container-id-2 div.sk-item::before, #sk-container-id-2 div.sk-parallel-item::before {content: \"\";position: absolute;border-left: 1px solid gray;box-sizing: border-box;top: 0;bottom: 0;left: 50%;z-index: -1;}#sk-container-id-2 div.sk-parallel-item {display: flex;flex-direction: column;z-index: 1;position: relative;background-color: white;}#sk-container-id-2 div.sk-parallel-item:first-child::after {align-self: flex-end;width: 50%;}#sk-container-id-2 div.sk-parallel-item:last-child::after {align-self: flex-start;width: 50%;}#sk-container-id-2 div.sk-parallel-item:only-child::after {width: 0;}#sk-container-id-2 div.sk-dashed-wrapped {border: 1px dashed gray;margin: 0 0.4em 0.5em 0.4em;box-sizing: border-box;padding-bottom: 0.4em;background-color: white;}#sk-container-id-2 div.sk-label label {font-family: monospace;font-weight: bold;display: inline-block;line-height: 1.2em;}#sk-container-id-2 div.sk-label-container {text-align: center;}#sk-container-id-2 div.sk-container {/* jupyter's `normalize.less` sets `[hidden] { display: none; }` but bootstrap.min.css set `[hidden] { display: none !important; }` so we also need the `!important` here to be able to override the default hidden behavior on the sphinx rendered scikit-learn.org. See: https://github.com/scikit-learn/scikit-learn/issues/21755 */display: inline-block !important;position: relative;}#sk-container-id-2 div.sk-text-repr-fallback {display: none;}</style><div id=\"sk-container-id-2\" class=\"sk-top-container\"><div class=\"sk-text-repr-fallback\"><pre>GridSearchCV(estimator=SVR(),\n",
       "             param_grid={&#x27;C&#x27;: [0.1, 1, 10], &#x27;degree&#x27;: [2, 3, 4],\n",
       "                         &#x27;epsilon&#x27;: [0.1, 0.2, 0.5],\n",
       "                         &#x27;kernel&#x27;: [&#x27;linear&#x27;, &#x27;poly&#x27;, &#x27;rbf&#x27;]})</pre><b>In a Jupyter environment, please rerun this cell to show the HTML representation or trust the notebook. <br />On GitHub, the HTML representation is unable to render, please try loading this page with nbviewer.org.</b></div><div class=\"sk-container\" hidden><div class=\"sk-item sk-dashed-wrapped\"><div class=\"sk-label-container\"><div class=\"sk-label sk-toggleable\"><input class=\"sk-toggleable__control sk-hidden--visually\" id=\"sk-estimator-id-2\" type=\"checkbox\" ><label for=\"sk-estimator-id-2\" class=\"sk-toggleable__label sk-toggleable__label-arrow\">GridSearchCV</label><div class=\"sk-toggleable__content\"><pre>GridSearchCV(estimator=SVR(),\n",
       "             param_grid={&#x27;C&#x27;: [0.1, 1, 10], &#x27;degree&#x27;: [2, 3, 4],\n",
       "                         &#x27;epsilon&#x27;: [0.1, 0.2, 0.5],\n",
       "                         &#x27;kernel&#x27;: [&#x27;linear&#x27;, &#x27;poly&#x27;, &#x27;rbf&#x27;]})</pre></div></div></div><div class=\"sk-parallel\"><div class=\"sk-parallel-item\"><div class=\"sk-item\"><div class=\"sk-label-container\"><div class=\"sk-label sk-toggleable\"><input class=\"sk-toggleable__control sk-hidden--visually\" id=\"sk-estimator-id-3\" type=\"checkbox\" ><label for=\"sk-estimator-id-3\" class=\"sk-toggleable__label sk-toggleable__label-arrow\">estimator: SVR</label><div class=\"sk-toggleable__content\"><pre>SVR()</pre></div></div></div><div class=\"sk-serial\"><div class=\"sk-item\"><div class=\"sk-estimator sk-toggleable\"><input class=\"sk-toggleable__control sk-hidden--visually\" id=\"sk-estimator-id-4\" type=\"checkbox\" ><label for=\"sk-estimator-id-4\" class=\"sk-toggleable__label sk-toggleable__label-arrow\">SVR</label><div class=\"sk-toggleable__content\"><pre>SVR()</pre></div></div></div></div></div></div></div></div></div></div>"
      ],
      "text/plain": [
       "GridSearchCV(estimator=SVR(),\n",
       "             param_grid={'C': [0.1, 1, 10], 'degree': [2, 3, 4],\n",
       "                         'epsilon': [0.1, 0.2, 0.5],\n",
       "                         'kernel': ['linear', 'poly', 'rbf']})"
      ]
     },
     "execution_count": 34,
     "metadata": {},
     "output_type": "execute_result"
    }
   ],
   "source": [
    "gridsvr.fit(X_train, y_train.values.ravel())"
   ]
  },
  {
   "cell_type": "raw",
   "id": "62a2191e-bf47-46eb-bf1a-9f4be8e5373c",
   "metadata": {},
   "source": []
  },
  {
   "cell_type": "code",
   "execution_count": null,
   "id": "87c4c146-1712-4270-b478-9468acf337cd",
   "metadata": {},
   "outputs": [
    {
     "data": {
      "text/plain": [
       "{'C': 10, 'degree': 2, 'epsilon': 0.5, 'kernel': 'linear'}"
      ]
     },
     "execution_count": 35,
     "metadata": {},
     "output_type": "execute_result"
    }
   ],
   "source": [
    "gridsvr.best_params_"
   ]
  },
  {
   "cell_type": "code",
   "execution_count": null,
   "id": "de3681c7-6607-4863-9655-7abfd798c860",
   "metadata": {},
   "outputs": [],
   "source": [
    "from sklearn.ensemble import RandomForestRegressor\n",
    "from sklearn.model_selection import GridSearchCV\n",
    "rfmodel=RandomForestRegressor()\n"
   ]
  },
  {
   "cell_type": "code",
   "execution_count": null,
   "id": "cf92bb66-1ffe-4568-a54c-3f15f83b1e66",
   "metadata": {},
   "outputs": [],
   "source": [
    "param_gridrfr= {\n",
    "    'n_estimators':[2,3,4,5,6],\n",
    "    'max_depth':[5,10,15]\n",
    "}\n",
    "\n"
   ]
  },
  {
   "cell_type": "code",
   "execution_count": null,
   "id": "98ffcc56-c984-499a-9ec4-4c5db616beda",
   "metadata": {},
   "outputs": [],
   "source": [
    "gridrfr=GridSearchCV(estimator=rfmodel,param_grid=param_gridrfr,cv=5)"
   ]
  },
  {
   "cell_type": "code",
   "execution_count": null,
   "id": "64a99536-f336-4ec4-817d-3f74b2c27377",
   "metadata": {},
   "outputs": [
    {
     "data": {
      "image/png": "[encoded data removed]",
      "text/plain": [
       "<Figure size 800x500 with 2 Axes>"
      ]
     },
     "metadata": {},
     "output_type": "display_data"
    }
   ],
   "source": [
    "import seaborn as sns\n",
    "import matplotlib.pyplot as plt\n",
    "plt.figure(figsize=(8,5))\n",
    "numeric_df=df.select_dtypes(include=['number'])\n",
    "sns.heatmap(numeric_df.corr(),annot=True, cmap='Oranges')\n",
    "plt.show()"
   ]
  },
  {
   "cell_type": "code",
   "execution_count": null,
   "id": "cf9f53f7-839f-469b-90f5-7b38cfda1f68",
   "metadata": {},
   "outputs": [
    {
     "data": {
      "text/html": [
       "<style>#sk-container-id-3 {color: black;background-color: white;}#sk-container-id-3 pre{padding: 0;}#sk-container-id-3 div.sk-toggleable {background-color: white;}#sk-container-id-3 label.sk-toggleable__label {cursor: pointer;display: block;width: 100%;margin-bottom: 0;padding: 0.3em;box-sizing: border-box;text-align: center;}#sk-container-id-3 label.sk-toggleable__label-arrow:before {content: \"▸\";float: left;margin-right: 0.25em;color: #696969;}#sk-container-id-3 label.sk-toggleable__label-arrow:hover:before {color: black;}#sk-container-id-3 div.sk-estimator:hover label.sk-toggleable__label-arrow:before {color: black;}#sk-container-id-3 div.sk-toggleable__content {max-height: 0;max-width: 0;overflow: hidden;text-align: left;background-color: #f0f8ff;}#sk-container-id-3 div.sk-toggleable__content pre {margin: 0.2em;color: black;border-radius: 0.25em;background-color: #f0f8ff;}#sk-container-id-3 input.sk-toggleable__control:checked~div.sk-toggleable__content {max-height: 200px;max-width: 100%;overflow: auto;}#sk-container-id-3 input.sk-toggleable__control:checked~label.sk-toggleable__label-arrow:before {content: \"▾\";}#sk-container-id-3 div.sk-estimator input.sk-toggleable__control:checked~label.sk-toggleable__label {background-color: #d4ebff;}#sk-container-id-3 div.sk-label input.sk-toggleable__control:checked~label.sk-toggleable__label {background-color: #d4ebff;}#sk-container-id-3 input.sk-hidden--visually {border: 0;clip: rect(1px 1px 1px 1px);clip: rect(1px, 1px, 1px, 1px);height: 1px;margin: -1px;overflow: hidden;padding: 0;position: absolute;width: 1px;}#sk-container-id-3 div.sk-estimator {font-family: monospace;background-color: #f0f8ff;border: 1px dotted black;border-radius: 0.25em;box-sizing: border-box;margin-bottom: 0.5em;}#sk-container-id-3 div.sk-estimator:hover {background-color: #d4ebff;}#sk-container-id-3 div.sk-parallel-item::after {content: \"\";width: 100%;border-bottom: 1px solid gray;flex-grow: 1;}#sk-container-id-3 div.sk-label:hover label.sk-toggleable__label {background-color: #d4ebff;}#sk-container-id-3 div.sk-serial::before {content: \"\";position: absolute;border-left: 1px solid gray;box-sizing: border-box;top: 0;bottom: 0;left: 50%;z-index: 0;}#sk-container-id-3 div.sk-serial {display: flex;flex-direction: column;align-items: center;background-color: white;padding-right: 0.2em;padding-left: 0.2em;position: relative;}#sk-container-id-3 div.sk-item {position: relative;z-index: 1;}#sk-container-id-3 div.sk-parallel {display: flex;align-items: stretch;justify-content: center;background-color: white;position: relative;}#sk-container-id-3 div.sk-item::before, #sk-container-id-3 div.sk-parallel-item::before {content: \"\";position: absolute;border-left: 1px solid gray;box-sizing: border-box;top: 0;bottom: 0;left: 50%;z-index: -1;}#sk-container-id-3 div.sk-parallel-item {display: flex;flex-direction: column;z-index: 1;position: relative;background-color: white;}#sk-container-id-3 div.sk-parallel-item:first-child::after {align-self: flex-end;width: 50%;}#sk-container-id-3 div.sk-parallel-item:last-child::after {align-self: flex-start;width: 50%;}#sk-container-id-3 div.sk-parallel-item:only-child::after {width: 0;}#sk-container-id-3 div.sk-dashed-wrapped {border: 1px dashed gray;margin: 0 0.4em 0.5em 0.4em;box-sizing: border-box;padding-bottom: 0.4em;background-color: white;}#sk-container-id-3 div.sk-label label {font-family: monospace;font-weight: bold;display: inline-block;line-height: 1.2em;}#sk-container-id-3 div.sk-label-container {text-align: center;}#sk-container-id-3 div.sk-container {/* jupyter's `normalize.less` sets `[hidden] { display: none; }` but bootstrap.min.css set `[hidden] { display: none !important; }` so we also need the `!important` here to be able to override the default hidden behavior on the sphinx rendered scikit-learn.org. See: https://github.com/scikit-learn/scikit-learn/issues/21755 */display: inline-block !important;position: relative;}#sk-container-id-3 div.sk-text-repr-fallback {display: none;}</style><div id=\"sk-container-id-3\" class=\"sk-top-container\"><div class=\"sk-text-repr-fallback\"><pre>GridSearchCV(cv=5, estimator=RandomForestRegressor(),\n",
       "             param_grid={&#x27;max_depth&#x27;: [5, 10, 15],\n",
       "                         &#x27;n_estimators&#x27;: [2, 3, 4, 5, 6]})</pre><b>In a Jupyter environment, please rerun this cell to show the HTML representation or trust the notebook. <br />On GitHub, the HTML representation is unable to render, please try loading this page with nbviewer.org.</b></div><div class=\"sk-container\" hidden><div class=\"sk-item sk-dashed-wrapped\"><div class=\"sk-label-container\"><div class=\"sk-label sk-toggleable\"><input class=\"sk-toggleable__control sk-hidden--visually\" id=\"sk-estimator-id-5\" type=\"checkbox\" ><label for=\"sk-estimator-id-5\" class=\"sk-toggleable__label sk-toggleable__label-arrow\">GridSearchCV</label><div class=\"sk-toggleable__content\"><pre>GridSearchCV(cv=5, estimator=RandomForestRegressor(),\n",
       "             param_grid={&#x27;max_depth&#x27;: [5, 10, 15],\n",
       "                         &#x27;n_estimators&#x27;: [2, 3, 4, 5, 6]})</pre></div></div></div><div class=\"sk-parallel\"><div class=\"sk-parallel-item\"><div class=\"sk-item\"><div class=\"sk-label-container\"><div class=\"sk-label sk-toggleable\"><input class=\"sk-toggleable__control sk-hidden--visually\" id=\"sk-estimator-id-6\" type=\"checkbox\" ><label for=\"sk-estimator-id-6\" class=\"sk-toggleable__label sk-toggleable__label-arrow\">estimator: RandomForestRegressor</label><div class=\"sk-toggleable__content\"><pre>RandomForestRegressor()</pre></div></div></div><div class=\"sk-serial\"><div class=\"sk-item\"><div class=\"sk-estimator sk-toggleable\"><input class=\"sk-toggleable__control sk-hidden--visually\" id=\"sk-estimator-id-7\" type=\"checkbox\" ><label for=\"sk-estimator-id-7\" class=\"sk-toggleable__label sk-toggleable__label-arrow\">RandomForestRegressor</label><div class=\"sk-toggleable__content\"><pre>RandomForestRegressor()</pre></div></div></div></div></div></div></div></div></div></div>"
      ],
      "text/plain": [
       "GridSearchCV(cv=5, estimator=RandomForestRegressor(),\n",
       "             param_grid={'max_depth': [5, 10, 15],\n",
       "                         'n_estimators': [2, 3, 4, 5, 6]})"
      ]
     },
     "execution_count": 44,
     "metadata": {},
     "output_type": "execute_result"
    }
   ],
   "source": [
    "gridrfr.fit(X_train, y_train.values.ravel())"
   ]
  },
  {
   "cell_type": "code",
   "execution_count": null,
   "id": "6c52e24d-b539-4943-bfa2-0a0f86112e0a",
   "metadata": {},
   "outputs": [
    {
     "data": {
      "text/plain": [
       "{'max_depth': 5, 'n_estimators': 2}"
      ]
     },
     "execution_count": 45,
     "metadata": {},
     "output_type": "execute_result"
    }
   ],
   "source": [
    "gridrfr.best_params_"
   ]
  },
  {
   "cell_type": "code",
   "execution_count": null,
   "id": "c0e07fe1-d1b9-4199-9d18-689414c87774",
   "metadata": {},
   "outputs": [],
   "source": [
    "predictionofrfr=gridrfr.predict(X_test)\n"
   ]
  },
  {
   "cell_type": "code",
   "execution_count": null,
   "id": "e34f022f-077d-45dd-b892-d6cce1f28e97",
   "metadata": {},
   "outputs": [
    {
     "name": "stdout",
     "output_type": "stream",
     "text": [
      "Mean absolute error on model is {} 19567.73818492657\n",
      "Root mean squared error on model is {} 23330.795481863788\n"
     ]
    }
   ],
   "source": [
    "results(predictionofrfr)"
   ]
  },
  {
   "cell_type": "code",
   "execution_count": null,
   "id": "5ac3f202-121f-43f6-8cce-5f1f101e8dd2",
   "metadata": {},
   "outputs": [
    {
     "data": {
      "text/html": [
       "<style>#sk-container-id-4 {color: black;background-color: white;}#sk-container-id-4 pre{padding: 0;}#sk-container-id-4 div.sk-toggleable {background-color: white;}#sk-container-id-4 label.sk-toggleable__label {cursor: pointer;display: block;width: 100%;margin-bottom: 0;padding: 0.3em;box-sizing: border-box;text-align: center;}#sk-container-id-4 label.sk-toggleable__label-arrow:before {content: \"▸\";float: left;margin-right: 0.25em;color: #696969;}#sk-container-id-4 label.sk-toggleable__label-arrow:hover:before {color: black;}#sk-container-id-4 div.sk-estimator:hover label.sk-toggleable__label-arrow:before {color: black;}#sk-container-id-4 div.sk-toggleable__content {max-height: 0;max-width: 0;overflow: hidden;text-align: left;background-color: #f0f8ff;}#sk-container-id-4 div.sk-toggleable__content pre {margin: 0.2em;color: black;border-radius: 0.25em;background-color: #f0f8ff;}#sk-container-id-4 input.sk-toggleable__control:checked~div.sk-toggleable__content {max-height: 200px;max-width: 100%;overflow: auto;}#sk-container-id-4 input.sk-toggleable__control:checked~label.sk-toggleable__label-arrow:before {content: \"▾\";}#sk-container-id-4 div.sk-estimator input.sk-toggleable__control:checked~label.sk-toggleable__label {background-color: #d4ebff;}#sk-container-id-4 div.sk-label input.sk-toggleable__control:checked~label.sk-toggleable__label {background-color: #d4ebff;}#sk-container-id-4 input.sk-hidden--visually {border: 0;clip: rect(1px 1px 1px 1px);clip: rect(1px, 1px, 1px, 1px);height: 1px;margin: -1px;overflow: hidden;padding: 0;position: absolute;width: 1px;}#sk-container-id-4 div.sk-estimator {font-family: monospace;background-color: #f0f8ff;border: 1px dotted black;border-radius: 0.25em;box-sizing: border-box;margin-bottom: 0.5em;}#sk-container-id-4 div.sk-estimator:hover {background-color: #d4ebff;}#sk-container-id-4 div.sk-parallel-item::after {content: \"\";width: 100%;border-bottom: 1px solid gray;flex-grow: 1;}#sk-container-id-4 div.sk-label:hover label.sk-toggleable__label {background-color: #d4ebff;}#sk-container-id-4 div.sk-serial::before {content: \"\";position: absolute;border-left: 1px solid gray;box-sizing: border-box;top: 0;bottom: 0;left: 50%;z-index: 0;}#sk-container-id-4 div.sk-serial {display: flex;flex-direction: column;align-items: center;background-color: white;padding-right: 0.2em;padding-left: 0.2em;position: relative;}#sk-container-id-4 div.sk-item {position: relative;z-index: 1;}#sk-container-id-4 div.sk-parallel {display: flex;align-items: stretch;justify-content: center;background-color: white;position: relative;}#sk-container-id-4 div.sk-item::before, #sk-container-id-4 div.sk-parallel-item::before {content: \"\";position: absolute;border-left: 1px solid gray;box-sizing: border-box;top: 0;bottom: 0;left: 50%;z-index: -1;}#sk-container-id-4 div.sk-parallel-item {display: flex;flex-direction: column;z-index: 1;position: relative;background-color: white;}#sk-container-id-4 div.sk-parallel-item:first-child::after {align-self: flex-end;width: 50%;}#sk-container-id-4 div.sk-parallel-item:last-child::after {align-self: flex-start;width: 50%;}#sk-container-id-4 div.sk-parallel-item:only-child::after {width: 0;}#sk-container-id-4 div.sk-dashed-wrapped {border: 1px dashed gray;margin: 0 0.4em 0.5em 0.4em;box-sizing: border-box;padding-bottom: 0.4em;background-color: white;}#sk-container-id-4 div.sk-label label {font-family: monospace;font-weight: bold;display: inline-block;line-height: 1.2em;}#sk-container-id-4 div.sk-label-container {text-align: center;}#sk-container-id-4 div.sk-container {/* jupyter's `normalize.less` sets `[hidden] { display: none; }` but bootstrap.min.css set `[hidden] { display: none !important; }` so we also need the `!important` here to be able to override the default hidden behavior on the sphinx rendered scikit-learn.org. See: https://github.com/scikit-learn/scikit-learn/issues/21755 */display: inline-block !important;position: relative;}#sk-container-id-4 div.sk-text-repr-fallback {display: none;}</style><div id=\"sk-container-id-4\" class=\"sk-top-container\"><div class=\"sk-text-repr-fallback\"><pre>LinearRegression()</pre><b>In a Jupyter environment, please rerun this cell to show the HTML representation or trust the notebook. <br />On GitHub, the HTML representation is unable to render, please try loading this page with nbviewer.org.</b></div><div class=\"sk-container\" hidden><div class=\"sk-item\"><div class=\"sk-estimator sk-toggleable\"><input class=\"sk-toggleable__control sk-hidden--visually\" id=\"sk-estimator-id-8\" type=\"checkbox\" checked><label for=\"sk-estimator-id-8\" class=\"sk-toggleable__label sk-toggleable__label-arrow\">LinearRegression</label><div class=\"sk-toggleable__content\"><pre>LinearRegression()</pre></div></div></div></div></div>"
      ],
      "text/plain": [
       "LinearRegression()"
      ]
     },
     "execution_count": 48,
     "metadata": {},
     "output_type": "execute_result"
    }
   ],
   "source": [
    "lr"
   ]
  },
  {
   "cell_type": "code",
   "execution_count": null,
   "id": "4225ce85-12c6-4353-8106-351b431ec8b8",
   "metadata": {},
   "outputs": [
    {
     "data": {
      "text/plain": [
       "['model.pkl']"
      ]
     },
     "execution_count": 49,
     "metadata": {},
     "output_type": "execute_result"
    }
   ],
   "source": [
    "joblib.dump(lr, \"model.pkl\")"
   ]
  },
  {
   "cell_type": "code",
   "execution_count": null,
   "id": "06ad5c73-f03d-4883-b735-c8fe7c533acd",
   "metadata": {},
   "outputs": [
    {
     "data": {
      "image/png": "[encoded data removed]",
      "text/plain": [
       "<Figure size 500x400 with 2 Axes>"
      ]
     },
     "metadata": {},
     "output_type": "display_data"
    }
   ],
   "source": [
    "from sklearn.metrics import confusion_matrix \n",
    "import matplotlib.pyplot as plt\n",
    "\n",
    "import seaborn as sns\n",
    "\n",
    "#Example: y true actual labels, y pred predicted labels\n",
    "\n",
    "y_true=[0, 1, 0, 1, 0, 1, 1, 0]\n",
    "\n",
    "y_pred=[0, 1, 0, 0, 0, 1, 1, 1]\n",
    "\n",
    "#Create the confusion matrix \n",
    "cm=confusion_matrix(y_true, y_pred)\n",
    "\n",
    "#Plot it using seaborn heatmap \n",
    "plt.figure(figsize=(5,4)) \n",
    "sns.heatmap(cm, annot=True, fmt='d', cmap='Blues') \n",
    "plt.xlabel(\"Predicted\") \n",
    "plt.ylabel(\"Actual\") \n",
    "plt.title('Confusion Matrix')\n",
    "plt.show()\n",
    "\n"
   ]
  },
  {
   "cell_type": "code",
   "execution_count": null,
   "id": "505e9996-ac54-4b94-bb73-80e3bdc86c7c",
   "metadata": {},
   "outputs": [
    {
     "data": {
      "text/plain": [
       "Index(['Years_at_Company', 'Satisfaction_Level', 'Average_Monthly_Hours'], dtype='object')"
      ]
     },
     "execution_count": 63,
     "metadata": {},
     "output_type": "execute_result"
    }
   ],
   "source": [
    "X.columns"
   ]
  },
  {
   "cell_type": "code",
   "execution_count": null,
   "id": "4d6eef5e-9d17-43fc-a192-b482222c24ab",
   "metadata": {},
   "outputs": [],
   "source": []
  }
 ],
 "metadata": {
  "kernelspec": {
   "display_name": "Python 3 (ipykernel)",
   "language": "python",
   "name": "python3"
  },
  "language_info": {
   "codemirror_mode": {
    "name": "ipython",
    "version": 3
   },
   "file_extension": ".py",
   "mimetype": "text/x-python",
   "name": "python",
   "nbconvert_exporter": "python",
   "pygments_lexer": "ipython3",
   "version": "3.11.7"
  }
 },
 "nbformat": 4,
 "nbformat_minor": 5
}
